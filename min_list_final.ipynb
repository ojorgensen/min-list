{
  "nbformat": 4,
  "nbformat_minor": 0,
  "metadata": {
    "colab": {
      "provenance": [],
      "collapsed_sections": [
        "8mrZfj3Sdd0k",
        "Cyg1hujmSsN_",
        "lRXUhaBP5_ym",
        "9PB6aiQPa_d-",
        "hDxidUPsvKbc",
        "HUTvm0VU3i8Z",
        "GUndYTEYAZ-9"
      ],
      "toc_visible": true,
      "machine_shape": "hm"
    },
    "kernelspec": {
      "name": "python3",
      "display_name": "Python 3"
    },
    "language_info": {
      "name": "python"
    },
    "accelerator": "GPU",
    "gpuClass": "standard",
    "widgets": {
      "application/vnd.jupyter.widget-state+json": {
        "9f23d8209d104f4584669525c41fb520": {
          "model_module": "@jupyter-widgets/controls",
          "model_name": "HBoxModel",
          "model_module_version": "1.5.0",
          "state": {
            "_dom_classes": [],
            "_model_module": "@jupyter-widgets/controls",
            "_model_module_version": "1.5.0",
            "_model_name": "HBoxModel",
            "_view_count": null,
            "_view_module": "@jupyter-widgets/controls",
            "_view_module_version": "1.5.0",
            "_view_name": "HBoxView",
            "box_style": "",
            "children": [
              "IPY_MODEL_fb2606f7f84245d79e72fa152c82a3fb",
              "IPY_MODEL_c13b2942c5a840d880aa468cdfd459aa",
              "IPY_MODEL_887ff610eecd4e7dacb43f7d267f8a05"
            ],
            "layout": "IPY_MODEL_e438e14f6add4ac6a6329c2b9682b975"
          }
        },
        "fb2606f7f84245d79e72fa152c82a3fb": {
          "model_module": "@jupyter-widgets/controls",
          "model_name": "HTMLModel",
          "model_module_version": "1.5.0",
          "state": {
            "_dom_classes": [],
            "_model_module": "@jupyter-widgets/controls",
            "_model_module_version": "1.5.0",
            "_model_name": "HTMLModel",
            "_view_count": null,
            "_view_module": "@jupyter-widgets/controls",
            "_view_module_version": "1.5.0",
            "_view_name": "HTMLView",
            "description": "",
            "description_tooltip": null,
            "layout": "IPY_MODEL_e4c84196bbfa4ea8a8489a8bd2110f8a",
            "placeholder": "​",
            "style": "IPY_MODEL_1b8f00787c9a4f47a26a8dfba3ea5c67",
            "value": "100%"
          }
        },
        "c13b2942c5a840d880aa468cdfd459aa": {
          "model_module": "@jupyter-widgets/controls",
          "model_name": "FloatProgressModel",
          "model_module_version": "1.5.0",
          "state": {
            "_dom_classes": [],
            "_model_module": "@jupyter-widgets/controls",
            "_model_module_version": "1.5.0",
            "_model_name": "FloatProgressModel",
            "_view_count": null,
            "_view_module": "@jupyter-widgets/controls",
            "_view_module_version": "1.5.0",
            "_view_name": "ProgressView",
            "bar_style": "success",
            "description": "",
            "description_tooltip": null,
            "layout": "IPY_MODEL_f17a6866c476412a9c7dc479266323de",
            "max": 10001,
            "min": 0,
            "orientation": "horizontal",
            "style": "IPY_MODEL_654a39afbc044a6a9556fa93bf9ad47c",
            "value": 10001
          }
        },
        "887ff610eecd4e7dacb43f7d267f8a05": {
          "model_module": "@jupyter-widgets/controls",
          "model_name": "HTMLModel",
          "model_module_version": "1.5.0",
          "state": {
            "_dom_classes": [],
            "_model_module": "@jupyter-widgets/controls",
            "_model_module_version": "1.5.0",
            "_model_name": "HTMLModel",
            "_view_count": null,
            "_view_module": "@jupyter-widgets/controls",
            "_view_module_version": "1.5.0",
            "_view_name": "HTMLView",
            "description": "",
            "description_tooltip": null,
            "layout": "IPY_MODEL_f376bf3a01f84b638a76616d6b148d5f",
            "placeholder": "​",
            "style": "IPY_MODEL_5a0c422fcc5c4b3ab3fdb4b46ad13cb0",
            "value": " 10001/10001 [02:07&lt;00:00, 106.54it/s]"
          }
        },
        "e438e14f6add4ac6a6329c2b9682b975": {
          "model_module": "@jupyter-widgets/base",
          "model_name": "LayoutModel",
          "model_module_version": "1.2.0",
          "state": {
            "_model_module": "@jupyter-widgets/base",
            "_model_module_version": "1.2.0",
            "_model_name": "LayoutModel",
            "_view_count": null,
            "_view_module": "@jupyter-widgets/base",
            "_view_module_version": "1.2.0",
            "_view_name": "LayoutView",
            "align_content": null,
            "align_items": null,
            "align_self": null,
            "border": null,
            "bottom": null,
            "display": null,
            "flex": null,
            "flex_flow": null,
            "grid_area": null,
            "grid_auto_columns": null,
            "grid_auto_flow": null,
            "grid_auto_rows": null,
            "grid_column": null,
            "grid_gap": null,
            "grid_row": null,
            "grid_template_areas": null,
            "grid_template_columns": null,
            "grid_template_rows": null,
            "height": null,
            "justify_content": null,
            "justify_items": null,
            "left": null,
            "margin": null,
            "max_height": null,
            "max_width": null,
            "min_height": null,
            "min_width": null,
            "object_fit": null,
            "object_position": null,
            "order": null,
            "overflow": null,
            "overflow_x": null,
            "overflow_y": null,
            "padding": null,
            "right": null,
            "top": null,
            "visibility": null,
            "width": null
          }
        },
        "e4c84196bbfa4ea8a8489a8bd2110f8a": {
          "model_module": "@jupyter-widgets/base",
          "model_name": "LayoutModel",
          "model_module_version": "1.2.0",
          "state": {
            "_model_module": "@jupyter-widgets/base",
            "_model_module_version": "1.2.0",
            "_model_name": "LayoutModel",
            "_view_count": null,
            "_view_module": "@jupyter-widgets/base",
            "_view_module_version": "1.2.0",
            "_view_name": "LayoutView",
            "align_content": null,
            "align_items": null,
            "align_self": null,
            "border": null,
            "bottom": null,
            "display": null,
            "flex": null,
            "flex_flow": null,
            "grid_area": null,
            "grid_auto_columns": null,
            "grid_auto_flow": null,
            "grid_auto_rows": null,
            "grid_column": null,
            "grid_gap": null,
            "grid_row": null,
            "grid_template_areas": null,
            "grid_template_columns": null,
            "grid_template_rows": null,
            "height": null,
            "justify_content": null,
            "justify_items": null,
            "left": null,
            "margin": null,
            "max_height": null,
            "max_width": null,
            "min_height": null,
            "min_width": null,
            "object_fit": null,
            "object_position": null,
            "order": null,
            "overflow": null,
            "overflow_x": null,
            "overflow_y": null,
            "padding": null,
            "right": null,
            "top": null,
            "visibility": null,
            "width": null
          }
        },
        "1b8f00787c9a4f47a26a8dfba3ea5c67": {
          "model_module": "@jupyter-widgets/controls",
          "model_name": "DescriptionStyleModel",
          "model_module_version": "1.5.0",
          "state": {
            "_model_module": "@jupyter-widgets/controls",
            "_model_module_version": "1.5.0",
            "_model_name": "DescriptionStyleModel",
            "_view_count": null,
            "_view_module": "@jupyter-widgets/base",
            "_view_module_version": "1.2.0",
            "_view_name": "StyleView",
            "description_width": ""
          }
        },
        "f17a6866c476412a9c7dc479266323de": {
          "model_module": "@jupyter-widgets/base",
          "model_name": "LayoutModel",
          "model_module_version": "1.2.0",
          "state": {
            "_model_module": "@jupyter-widgets/base",
            "_model_module_version": "1.2.0",
            "_model_name": "LayoutModel",
            "_view_count": null,
            "_view_module": "@jupyter-widgets/base",
            "_view_module_version": "1.2.0",
            "_view_name": "LayoutView",
            "align_content": null,
            "align_items": null,
            "align_self": null,
            "border": null,
            "bottom": null,
            "display": null,
            "flex": null,
            "flex_flow": null,
            "grid_area": null,
            "grid_auto_columns": null,
            "grid_auto_flow": null,
            "grid_auto_rows": null,
            "grid_column": null,
            "grid_gap": null,
            "grid_row": null,
            "grid_template_areas": null,
            "grid_template_columns": null,
            "grid_template_rows": null,
            "height": null,
            "justify_content": null,
            "justify_items": null,
            "left": null,
            "margin": null,
            "max_height": null,
            "max_width": null,
            "min_height": null,
            "min_width": null,
            "object_fit": null,
            "object_position": null,
            "order": null,
            "overflow": null,
            "overflow_x": null,
            "overflow_y": null,
            "padding": null,
            "right": null,
            "top": null,
            "visibility": null,
            "width": null
          }
        },
        "654a39afbc044a6a9556fa93bf9ad47c": {
          "model_module": "@jupyter-widgets/controls",
          "model_name": "ProgressStyleModel",
          "model_module_version": "1.5.0",
          "state": {
            "_model_module": "@jupyter-widgets/controls",
            "_model_module_version": "1.5.0",
            "_model_name": "ProgressStyleModel",
            "_view_count": null,
            "_view_module": "@jupyter-widgets/base",
            "_view_module_version": "1.2.0",
            "_view_name": "StyleView",
            "bar_color": null,
            "description_width": ""
          }
        },
        "f376bf3a01f84b638a76616d6b148d5f": {
          "model_module": "@jupyter-widgets/base",
          "model_name": "LayoutModel",
          "model_module_version": "1.2.0",
          "state": {
            "_model_module": "@jupyter-widgets/base",
            "_model_module_version": "1.2.0",
            "_model_name": "LayoutModel",
            "_view_count": null,
            "_view_module": "@jupyter-widgets/base",
            "_view_module_version": "1.2.0",
            "_view_name": "LayoutView",
            "align_content": null,
            "align_items": null,
            "align_self": null,
            "border": null,
            "bottom": null,
            "display": null,
            "flex": null,
            "flex_flow": null,
            "grid_area": null,
            "grid_auto_columns": null,
            "grid_auto_flow": null,
            "grid_auto_rows": null,
            "grid_column": null,
            "grid_gap": null,
            "grid_row": null,
            "grid_template_areas": null,
            "grid_template_columns": null,
            "grid_template_rows": null,
            "height": null,
            "justify_content": null,
            "justify_items": null,
            "left": null,
            "margin": null,
            "max_height": null,
            "max_width": null,
            "min_height": null,
            "min_width": null,
            "object_fit": null,
            "object_position": null,
            "order": null,
            "overflow": null,
            "overflow_x": null,
            "overflow_y": null,
            "padding": null,
            "right": null,
            "top": null,
            "visibility": null,
            "width": null
          }
        },
        "5a0c422fcc5c4b3ab3fdb4b46ad13cb0": {
          "model_module": "@jupyter-widgets/controls",
          "model_name": "DescriptionStyleModel",
          "model_module_version": "1.5.0",
          "state": {
            "_model_module": "@jupyter-widgets/controls",
            "_model_module_version": "1.5.0",
            "_model_name": "DescriptionStyleModel",
            "_view_count": null,
            "_view_module": "@jupyter-widgets/base",
            "_view_module_version": "1.2.0",
            "_view_name": "StyleView",
            "description_width": ""
          }
        }
      }
    }
  },
  "cells": [
    {
      "cell_type": "markdown",
      "source": [
        "# How do transformers find the minimum of a list?\n"
      ],
      "metadata": {
        "id": "8mrZfj3Sdd0k"
      }
    },
    {
      "cell_type": "markdown",
      "source": [
        "During the Apart interpretability hackathon in November 2022, my group and I focussed on trying to understand how a transformer performs the relatively simple task of finding the minimum of a list of integers. We managed to get pretty far with this, but I wasn't entirely satisfied with our final result, so I decided to do some further exploration and tidying up of our results."
      ],
      "metadata": {
        "id": "DWlvZqk2drQh"
      }
    },
    {
      "cell_type": "markdown",
      "source": [
        "In this notebook I will train a super simple transformer to find the minimum of two numbers. I will use Neel Nanda's Transformer Lens library to do this, as well as for the subsequent mechanistic interpretability of the transformer.\n",
        "\n",
        "I'll then do the interesting part: **I'll understand in excrutiating detail the algorithm implemented by the transformer!**"
      ],
      "metadata": {
        "id": "V7EBJ53TeuKF"
      }
    },
    {
      "cell_type": "markdown",
      "source": [
        "# Transformer Lens Setup"
      ],
      "metadata": {
        "id": "Cyg1hujmSsN_"
      }
    },
    {
      "cell_type": "markdown",
      "source": [
        "Note to reader: feel free to ignore this section. The only important points are: I am using Neel Nanda's excellent Transformer Lens library, and this notebook is designed to be run on colab!"
      ],
      "metadata": {
        "id": "zyian5hugenI"
      }
    },
    {
      "cell_type": "markdown",
      "source": [
        "Note to Ole: check what stuff here needs to be kept or discarded! Probably loads of bloat."
      ],
      "metadata": {
        "id": "26sa_m2Og9e2"
      }
    },
    {
      "cell_type": "markdown",
      "source": [
        "This setup is copied from Neel's main demo colab notebook for Transformer Lens, which can be found here: https://colab.research.google.com/github/neelnanda-io/TransformerLens/blob/main/Main_Demo.ipynb#scrollTo=V-IJnEFkEBPa"
      ],
      "metadata": {
        "id": "gQAPyZwFTedH"
      }
    },
    {
      "cell_type": "code",
      "execution_count": 1,
      "metadata": {
        "colab": {
          "base_uri": "https://localhost:8080/"
        },
        "id": "QE0kPpLgSoYS",
        "outputId": "098c3de7-a43e-48e9-c78e-1e32773d30c3"
      },
      "outputs": [
        {
          "output_type": "stream",
          "name": "stdout",
          "text": [
            "Running as a Colab notebook\n",
            "Looking in indexes: https://pypi.org/simple, https://us-python.pkg.dev/colab-wheels/public/simple/\n",
            "Collecting git+https://github.com/neelnanda-io/TransformerLens.git\n",
            "  Cloning https://github.com/neelnanda-io/TransformerLens.git to /tmp/pip-req-build-q9e78khh\n",
            "  Running command git clone --filter=blob:none --quiet https://github.com/neelnanda-io/TransformerLens.git /tmp/pip-req-build-q9e78khh\n",
            "  Resolved https://github.com/neelnanda-io/TransformerLens.git to commit 006599b30fd6950b3b07c54eabbdaa7c36939595\n",
            "  Installing build dependencies ... \u001b[?25l\u001b[?25hdone\n",
            "  Getting requirements to build wheel ... \u001b[?25l\u001b[?25hdone\n",
            "  Preparing metadata (pyproject.toml) ... \u001b[?25l\u001b[?25hdone\n",
            "Requirement already satisfied: torch<2.0,>=1.10 in /usr/local/lib/python3.8/dist-packages (from transformer-lens==0.2.0) (1.13.0+cu116)\n",
            "Collecting fancy-einsum<0.0.4,>=0.0.3\n",
            "  Downloading fancy_einsum-0.0.3-py3-none-any.whl (6.2 kB)\n",
            "Collecting wandb<0.14.0,>=0.13.5\n",
            "  Downloading wandb-0.13.7-py2.py3-none-any.whl (1.9 MB)\n",
            "\u001b[2K     \u001b[90m━━━━━━━━━━━━━━━━━━━━━━━━━━━━━━━━━━━━━━━━\u001b[0m \u001b[32m1.9/1.9 MB\u001b[0m \u001b[31m26.0 MB/s\u001b[0m eta \u001b[36m0:00:00\u001b[0m\n",
            "\u001b[?25hCollecting torchtyping<0.2.0,>=0.1.4\n",
            "  Downloading torchtyping-0.1.4-py3-none-any.whl (17 kB)\n",
            "Collecting rich<13.0.0,>=12.6.0\n",
            "  Downloading rich-12.6.0-py3-none-any.whl (237 kB)\n",
            "\u001b[2K     \u001b[90m━━━━━━━━━━━━━━━━━━━━━━━━━━━━━━━━━━━━━━\u001b[0m \u001b[32m237.5/237.5 KB\u001b[0m \u001b[31m27.0 MB/s\u001b[0m eta \u001b[36m0:00:00\u001b[0m\n",
            "\u001b[?25hRequirement already satisfied: numpy<2.0,>=1.21 in /usr/local/lib/python3.8/dist-packages (from transformer-lens==0.2.0) (1.21.6)\n",
            "Requirement already satisfied: tqdm<5.0.0,>=4.64.1 in /usr/local/lib/python3.8/dist-packages (from transformer-lens==0.2.0) (4.64.1)\n",
            "Requirement already satisfied: pandas<2.0.0,>=1.1.5 in /usr/local/lib/python3.8/dist-packages (from transformer-lens==0.2.0) (1.3.5)\n",
            "Collecting einops<0.7.0,>=0.6.0\n",
            "  Downloading einops-0.6.0-py3-none-any.whl (41 kB)\n",
            "\u001b[2K     \u001b[90m━━━━━━━━━━━━━━━━━━━━━━━━━━━━━━━━━━━━━━━━\u001b[0m \u001b[32m41.6/41.6 KB\u001b[0m \u001b[31m5.5 MB/s\u001b[0m eta \u001b[36m0:00:00\u001b[0m\n",
            "\u001b[?25hCollecting datasets<3.0.0,>=2.7.1\n",
            "  Downloading datasets-2.8.0-py3-none-any.whl (452 kB)\n",
            "\u001b[2K     \u001b[90m━━━━━━━━━━━━━━━━━━━━━━━━━━━━━━━━━━━━━━\u001b[0m \u001b[32m452.9/452.9 KB\u001b[0m \u001b[31m38.6 MB/s\u001b[0m eta \u001b[36m0:00:00\u001b[0m\n",
            "\u001b[?25hCollecting transformers<5.0.0,>=4.25.1\n",
            "  Downloading transformers-4.25.1-py3-none-any.whl (5.8 MB)\n",
            "\u001b[2K     \u001b[90m━━━━━━━━━━━━━━━━━━━━━━━━━━━━━━━━━━━━━━━━\u001b[0m \u001b[32m5.8/5.8 MB\u001b[0m \u001b[31m89.1 MB/s\u001b[0m eta \u001b[36m0:00:00\u001b[0m\n",
            "\u001b[?25hRequirement already satisfied: requests>=2.19.0 in /usr/local/lib/python3.8/dist-packages (from datasets<3.0.0,>=2.7.1->transformer-lens==0.2.0) (2.25.1)\n",
            "Collecting xxhash\n",
            "  Downloading xxhash-3.2.0-cp38-cp38-manylinux_2_17_x86_64.manylinux2014_x86_64.whl (213 kB)\n",
            "\u001b[2K     \u001b[90m━━━━━━━━━━━━━━━━━━━━━━━━━━━━━━━━━━━━━━\u001b[0m \u001b[32m213.0/213.0 KB\u001b[0m \u001b[31m26.1 MB/s\u001b[0m eta \u001b[36m0:00:00\u001b[0m\n",
            "\u001b[?25hRequirement already satisfied: fsspec[http]>=2021.11.1 in /usr/local/lib/python3.8/dist-packages (from datasets<3.0.0,>=2.7.1->transformer-lens==0.2.0) (2022.11.0)\n",
            "Collecting huggingface-hub<1.0.0,>=0.2.0\n",
            "  Downloading huggingface_hub-0.11.1-py3-none-any.whl (182 kB)\n",
            "\u001b[2K     \u001b[90m━━━━━━━━━━━━━━━━━━━━━━━━━━━━━━━━━━━━━━\u001b[0m \u001b[32m182.4/182.4 KB\u001b[0m \u001b[31m23.5 MB/s\u001b[0m eta \u001b[36m0:00:00\u001b[0m\n",
            "\u001b[?25hRequirement already satisfied: packaging in /usr/local/lib/python3.8/dist-packages (from datasets<3.0.0,>=2.7.1->transformer-lens==0.2.0) (21.3)\n",
            "Requirement already satisfied: pyarrow>=6.0.0 in /usr/local/lib/python3.8/dist-packages (from datasets<3.0.0,>=2.7.1->transformer-lens==0.2.0) (9.0.0)\n",
            "Collecting responses<0.19\n",
            "  Downloading responses-0.18.0-py3-none-any.whl (38 kB)\n",
            "Requirement already satisfied: pyyaml>=5.1 in /usr/local/lib/python3.8/dist-packages (from datasets<3.0.0,>=2.7.1->transformer-lens==0.2.0) (6.0)\n",
            "Collecting multiprocess\n",
            "  Downloading multiprocess-0.70.14-py38-none-any.whl (132 kB)\n",
            "\u001b[2K     \u001b[90m━━━━━━━━━━━━━━━━━━━━━━━━━━━━━━━━━━━━━━\u001b[0m \u001b[32m132.0/132.0 KB\u001b[0m \u001b[31m17.2 MB/s\u001b[0m eta \u001b[36m0:00:00\u001b[0m\n",
            "\u001b[?25hRequirement already satisfied: aiohttp in /usr/local/lib/python3.8/dist-packages (from datasets<3.0.0,>=2.7.1->transformer-lens==0.2.0) (3.8.3)\n",
            "Requirement already satisfied: dill<0.3.7 in /usr/local/lib/python3.8/dist-packages (from datasets<3.0.0,>=2.7.1->transformer-lens==0.2.0) (0.3.6)\n",
            "Requirement already satisfied: pytz>=2017.3 in /usr/local/lib/python3.8/dist-packages (from pandas<2.0.0,>=1.1.5->transformer-lens==0.2.0) (2022.7)\n",
            "Requirement already satisfied: python-dateutil>=2.7.3 in /usr/local/lib/python3.8/dist-packages (from pandas<2.0.0,>=1.1.5->transformer-lens==0.2.0) (2.8.2)\n",
            "Requirement already satisfied: pygments<3.0.0,>=2.6.0 in /usr/local/lib/python3.8/dist-packages (from rich<13.0.0,>=12.6.0->transformer-lens==0.2.0) (2.6.1)\n",
            "Requirement already satisfied: typing-extensions<5.0,>=4.0.0 in /usr/local/lib/python3.8/dist-packages (from rich<13.0.0,>=12.6.0->transformer-lens==0.2.0) (4.4.0)\n",
            "Collecting commonmark<0.10.0,>=0.9.0\n",
            "  Downloading commonmark-0.9.1-py2.py3-none-any.whl (51 kB)\n",
            "\u001b[2K     \u001b[90m━━━━━━━━━━━━━━━━━━━━━━━━━━━━━━━━━━━━━━━━\u001b[0m \u001b[32m51.1/51.1 KB\u001b[0m \u001b[31m8.2 MB/s\u001b[0m eta \u001b[36m0:00:00\u001b[0m\n",
            "\u001b[?25hCollecting typeguard>=2.11.1\n",
            "  Downloading typeguard-2.13.3-py3-none-any.whl (17 kB)\n",
            "Requirement already satisfied: filelock in /usr/local/lib/python3.8/dist-packages (from transformers<5.0.0,>=4.25.1->transformer-lens==0.2.0) (3.8.2)\n",
            "Requirement already satisfied: regex!=2019.12.17 in /usr/local/lib/python3.8/dist-packages (from transformers<5.0.0,>=4.25.1->transformer-lens==0.2.0) (2022.6.2)\n",
            "Collecting tokenizers!=0.11.3,<0.14,>=0.11.1\n",
            "  Downloading tokenizers-0.13.2-cp38-cp38-manylinux_2_17_x86_64.manylinux2014_x86_64.whl (7.6 MB)\n",
            "\u001b[2K     \u001b[90m━━━━━━━━━━━━━━━━━━━━━━━━━━━━━━━━━━━━━━━━\u001b[0m \u001b[32m7.6/7.6 MB\u001b[0m \u001b[31m103.7 MB/s\u001b[0m eta \u001b[36m0:00:00\u001b[0m\n",
            "\u001b[?25hRequirement already satisfied: promise<3,>=2.0 in /usr/local/lib/python3.8/dist-packages (from wandb<0.14.0,>=0.13.5->transformer-lens==0.2.0) (2.3)\n",
            "Collecting GitPython>=1.0.0\n",
            "  Downloading GitPython-3.1.30-py3-none-any.whl (184 kB)\n",
            "\u001b[2K     \u001b[90m━━━━━━━━━━━━━━━━━━━━━━━━━━━━━━━━━━━━━━\u001b[0m \u001b[32m184.0/184.0 KB\u001b[0m \u001b[31m22.2 MB/s\u001b[0m eta \u001b[36m0:00:00\u001b[0m\n",
            "\u001b[?25hCollecting pathtools\n",
            "  Downloading pathtools-0.1.2.tar.gz (11 kB)\n",
            "  Preparing metadata (setup.py) ... \u001b[?25l\u001b[?25hdone\n",
            "Requirement already satisfied: psutil>=5.0.0 in /usr/local/lib/python3.8/dist-packages (from wandb<0.14.0,>=0.13.5->transformer-lens==0.2.0) (5.4.8)\n",
            "Requirement already satisfied: setuptools in /usr/local/lib/python3.8/dist-packages (from wandb<0.14.0,>=0.13.5->transformer-lens==0.2.0) (57.4.0)\n",
            "Collecting shortuuid>=0.5.0\n",
            "  Downloading shortuuid-1.0.11-py3-none-any.whl (10 kB)\n",
            "Collecting sentry-sdk>=1.0.0\n",
            "  Downloading sentry_sdk-1.12.1-py2.py3-none-any.whl (174 kB)\n",
            "\u001b[2K     \u001b[90m━━━━━━━━━━━━━━━━━━━━━━━━━━━━━━━━━━━━━━\u001b[0m \u001b[32m174.3/174.3 KB\u001b[0m \u001b[31m22.7 MB/s\u001b[0m eta \u001b[36m0:00:00\u001b[0m\n",
            "\u001b[?25hRequirement already satisfied: protobuf!=4.21.0,<5,>=3.12.0 in /usr/local/lib/python3.8/dist-packages (from wandb<0.14.0,>=0.13.5->transformer-lens==0.2.0) (3.19.6)\n",
            "Collecting setproctitle\n",
            "  Downloading setproctitle-1.3.2-cp38-cp38-manylinux_2_5_x86_64.manylinux1_x86_64.manylinux_2_17_x86_64.manylinux2014_x86_64.whl (31 kB)\n",
            "Collecting docker-pycreds>=0.4.0\n",
            "  Downloading docker_pycreds-0.4.0-py2.py3-none-any.whl (9.0 kB)\n",
            "Requirement already satisfied: Click!=8.0.0,>=7.0 in /usr/local/lib/python3.8/dist-packages (from wandb<0.14.0,>=0.13.5->transformer-lens==0.2.0) (7.1.2)\n",
            "Requirement already satisfied: six>=1.4.0 in /usr/local/lib/python3.8/dist-packages (from docker-pycreds>=0.4.0->wandb<0.14.0,>=0.13.5->transformer-lens==0.2.0) (1.15.0)\n",
            "Requirement already satisfied: async-timeout<5.0,>=4.0.0a3 in /usr/local/lib/python3.8/dist-packages (from aiohttp->datasets<3.0.0,>=2.7.1->transformer-lens==0.2.0) (4.0.2)\n",
            "Requirement already satisfied: multidict<7.0,>=4.5 in /usr/local/lib/python3.8/dist-packages (from aiohttp->datasets<3.0.0,>=2.7.1->transformer-lens==0.2.0) (6.0.3)\n",
            "Requirement already satisfied: charset-normalizer<3.0,>=2.0 in /usr/local/lib/python3.8/dist-packages (from aiohttp->datasets<3.0.0,>=2.7.1->transformer-lens==0.2.0) (2.1.1)\n",
            "Requirement already satisfied: yarl<2.0,>=1.0 in /usr/local/lib/python3.8/dist-packages (from aiohttp->datasets<3.0.0,>=2.7.1->transformer-lens==0.2.0) (1.8.2)\n",
            "Requirement already satisfied: attrs>=17.3.0 in /usr/local/lib/python3.8/dist-packages (from aiohttp->datasets<3.0.0,>=2.7.1->transformer-lens==0.2.0) (22.2.0)\n",
            "Requirement already satisfied: aiosignal>=1.1.2 in /usr/local/lib/python3.8/dist-packages (from aiohttp->datasets<3.0.0,>=2.7.1->transformer-lens==0.2.0) (1.3.1)\n",
            "Requirement already satisfied: frozenlist>=1.1.1 in /usr/local/lib/python3.8/dist-packages (from aiohttp->datasets<3.0.0,>=2.7.1->transformer-lens==0.2.0) (1.3.3)\n",
            "Collecting gitdb<5,>=4.0.1\n",
            "  Downloading gitdb-4.0.10-py3-none-any.whl (62 kB)\n",
            "\u001b[2K     \u001b[90m━━━━━━━━━━━━━━━━━━━━━━━━━━━━━━━━━━━━━━━━\u001b[0m \u001b[32m62.7/62.7 KB\u001b[0m \u001b[31m8.6 MB/s\u001b[0m eta \u001b[36m0:00:00\u001b[0m\n",
            "\u001b[?25hRequirement already satisfied: pyparsing!=3.0.5,>=2.0.2 in /usr/local/lib/python3.8/dist-packages (from packaging->datasets<3.0.0,>=2.7.1->transformer-lens==0.2.0) (3.0.9)\n",
            "Requirement already satisfied: idna<3,>=2.5 in /usr/local/lib/python3.8/dist-packages (from requests>=2.19.0->datasets<3.0.0,>=2.7.1->transformer-lens==0.2.0) (2.10)\n",
            "Requirement already satisfied: chardet<5,>=3.0.2 in /usr/local/lib/python3.8/dist-packages (from requests>=2.19.0->datasets<3.0.0,>=2.7.1->transformer-lens==0.2.0) (4.0.0)\n",
            "Requirement already satisfied: urllib3<1.27,>=1.21.1 in /usr/local/lib/python3.8/dist-packages (from requests>=2.19.0->datasets<3.0.0,>=2.7.1->transformer-lens==0.2.0) (1.24.3)\n",
            "Requirement already satisfied: certifi>=2017.4.17 in /usr/local/lib/python3.8/dist-packages (from requests>=2.19.0->datasets<3.0.0,>=2.7.1->transformer-lens==0.2.0) (2022.12.7)\n",
            "Collecting urllib3<1.27,>=1.21.1\n",
            "  Downloading urllib3-1.26.13-py2.py3-none-any.whl (140 kB)\n",
            "\u001b[2K     \u001b[90m━━━━━━━━━━━━━━━━━━━━━━━━━━━━━━━━━━━━━━\u001b[0m \u001b[32m140.6/140.6 KB\u001b[0m \u001b[31m15.9 MB/s\u001b[0m eta \u001b[36m0:00:00\u001b[0m\n",
            "\u001b[?25hCollecting smmap<6,>=3.0.1\n",
            "  Downloading smmap-5.0.0-py3-none-any.whl (24 kB)\n",
            "Building wheels for collected packages: transformer-lens, pathtools\n",
            "  Building wheel for transformer-lens (pyproject.toml) ... \u001b[?25l\u001b[?25hdone\n",
            "  Created wheel for transformer-lens: filename=transformer_lens-0.2.0-py3-none-any.whl size=72825 sha256=38ee5a5e74e20a87ea81f5ac66af8ecf1f48c2861143673dbf6cb4e7a2f3449e\n",
            "  Stored in directory: /tmp/pip-ephem-wheel-cache-j3cpof8s/wheels/01/23/66/f2a24535cfdba20041b84e836ac5101ad100980ff9c12f410a\n",
            "  Building wheel for pathtools (setup.py) ... \u001b[?25l\u001b[?25hdone\n",
            "  Created wheel for pathtools: filename=pathtools-0.1.2-py3-none-any.whl size=8806 sha256=1e5aee92855961d668f96edef3155d74126f9aaaaa3fa47e7c1b91827a0ba57c\n",
            "  Stored in directory: /root/.cache/pip/wheels/4c/8e/7e/72fbc243e1aeecae64a96875432e70d4e92f3d2d18123be004\n",
            "Successfully built transformer-lens pathtools\n",
            "Installing collected packages: tokenizers, pathtools, commonmark, xxhash, urllib3, typeguard, smmap, shortuuid, setproctitle, rich, multiprocess, fancy-einsum, einops, docker-pycreds, torchtyping, sentry-sdk, gitdb, responses, huggingface-hub, GitPython, wandb, transformers, datasets, transformer-lens\n",
            "  Attempting uninstall: urllib3\n",
            "    Found existing installation: urllib3 1.24.3\n",
            "    Uninstalling urllib3-1.24.3:\n",
            "      Successfully uninstalled urllib3-1.24.3\n",
            "  Attempting uninstall: typeguard\n",
            "    Found existing installation: typeguard 2.7.1\n",
            "    Uninstalling typeguard-2.7.1:\n",
            "      Successfully uninstalled typeguard-2.7.1\n",
            "Successfully installed GitPython-3.1.30 commonmark-0.9.1 datasets-2.8.0 docker-pycreds-0.4.0 einops-0.6.0 fancy-einsum-0.0.3 gitdb-4.0.10 huggingface-hub-0.11.1 multiprocess-0.70.14 pathtools-0.1.2 responses-0.18.0 rich-12.6.0 sentry-sdk-1.12.1 setproctitle-1.3.2 shortuuid-1.0.11 smmap-5.0.0 tokenizers-0.13.2 torchtyping-0.1.4 transformer-lens-0.2.0 transformers-4.25.1 typeguard-2.13.3 urllib3-1.26.13 wandb-0.13.7 xxhash-3.2.0\n",
            "Looking in indexes: https://pypi.org/simple, https://us-python.pkg.dev/colab-wheels/public/simple/\n",
            "Collecting circuitsvis\n",
            "  Downloading circuitsvis-1.38.0-py3-none-any.whl (1.8 MB)\n",
            "\u001b[2K     \u001b[90m━━━━━━━━━━━━━━━━━━━━━━━━━━━━━━━━━━━━━━━━\u001b[0m \u001b[32m1.8/1.8 MB\u001b[0m \u001b[31m24.4 MB/s\u001b[0m eta \u001b[36m0:00:00\u001b[0m\n",
            "\u001b[?25hRequirement already satisfied: importlib-metadata<6.0.0,>=5.1.0 in /usr/local/lib/python3.8/dist-packages (from circuitsvis) (5.2.0)\n",
            "Requirement already satisfied: numpy<2.0,>=1.21 in /usr/local/lib/python3.8/dist-packages (from circuitsvis) (1.21.6)\n",
            "Requirement already satisfied: torch<2.0,>=1.10 in /usr/local/lib/python3.8/dist-packages (from circuitsvis) (1.13.0+cu116)\n",
            "Requirement already satisfied: zipp>=0.5 in /usr/local/lib/python3.8/dist-packages (from importlib-metadata<6.0.0,>=5.1.0->circuitsvis) (3.11.0)\n",
            "Requirement already satisfied: typing-extensions in /usr/local/lib/python3.8/dist-packages (from torch<2.0,>=1.10->circuitsvis) (4.4.0)\n",
            "Installing collected packages: circuitsvis\n",
            "Successfully installed circuitsvis-1.38.0\n"
          ]
        }
      ],
      "source": [
        "import google.colab\n",
        "IN_COLAB = True\n",
        "print(\"Running as a Colab notebook\")\n",
        "%pip install git+https://github.com/neelnanda-io/TransformerLens.git\n",
        "%pip install circuitsvis\n",
        "\n",
        "# PySvelte is an unmaintained visualization library, use it as a backup if circuitsvis isn't working\n",
        "# # Install another version of node that makes PySvelte work way faster\n",
        "# !curl -fsSL https://deb.nodesource.com/setup_16.x | sudo -E bash -; sudo apt-get install -y nodejs\n",
        "# %pip install git+https://github.com/neelnanda-io/PySvelte.git"
      ]
    },
    {
      "cell_type": "code",
      "source": [
        "# Plotly needs a different renderer for VSCode/Notebooks vs Colab argh\n",
        "import plotly.io as pio\n",
        "if IN_COLAB or not DEVELOPMENT_MODE:\n",
        "    pio.renderers.default = \"colab\"\n",
        "else:\n",
        "    pio.renderers.default = \"notebook_connected\"\n",
        "print(f\"Using renderer: {pio.renderers.default}\")"
      ],
      "metadata": {
        "colab": {
          "base_uri": "https://localhost:8080/"
        },
        "id": "gYz6nQxGTVqK",
        "outputId": "8d6f7078-8af5-4d45-cca3-cae0dab890d2"
      },
      "execution_count": 2,
      "outputs": [
        {
          "output_type": "stream",
          "name": "stdout",
          "text": [
            "Using renderer: colab\n"
          ]
        }
      ]
    },
    {
      "cell_type": "code",
      "source": [
        "# Import stuff\n",
        "import torch\n",
        "import torch.nn as nn\n",
        "import torch.nn.functional as F\n",
        "import torch.optim as optim\n",
        "import numpy as np\n",
        "import einops\n",
        "from fancy_einsum import einsum\n",
        "import tqdm.auto as tqdm\n",
        "import random\n",
        "from pathlib import Path\n",
        "import plotly.express as px\n",
        "from torch.utils.data import DataLoader\n",
        "\n",
        "from torchtyping import TensorType as TT\n",
        "from typing import List, Union, Optional\n",
        "from functools import partial\n",
        "import copy\n",
        "\n",
        "import itertools\n",
        "from transformers import AutoModelForCausalLM, AutoConfig, AutoTokenizer\n",
        "import dataclasses\n",
        "import datasets\n",
        "from IPython.display import HTML"
      ],
      "metadata": {
        "id": "EQCFCA9oTYx0"
      },
      "execution_count": 3,
      "outputs": []
    },
    {
      "cell_type": "code",
      "source": [
        "%matplotlib inline\n",
        "import time\n",
        "import pylab as pl\n",
        "import matplotlib.pyplot as plt\n",
        "from IPython import display"
      ],
      "metadata": {
        "id": "FtkbozUL6VSH"
      },
      "execution_count": 4,
      "outputs": []
    },
    {
      "cell_type": "code",
      "source": [
        "import transformer_lens\n",
        "import transformer_lens.utils as utils\n",
        "from transformer_lens.hook_points import (\n",
        "    HookedRootModule,\n",
        "    HookPoint,\n",
        ")  # Hooking utilities\n",
        "from transformer_lens import HookedTransformer, HookedTransformerConfig, FactoredMatrix, ActivationCache"
      ],
      "metadata": {
        "id": "51h3PflcUJqY"
      },
      "execution_count": 5,
      "outputs": []
    },
    {
      "cell_type": "code",
      "source": [
        "def imshow(tensor, renderer=None, xaxis=\"\", yaxis=\"\", **kwargs):\n",
        "    px.imshow(utils.to_numpy(tensor), color_continuous_midpoint=0.0, color_continuous_scale=\"RdBu\", labels={\"x\":xaxis, \"y\":yaxis}, **kwargs).show(renderer)\n",
        "\n",
        "def line(tensor, renderer=None, xaxis=\"\", yaxis=\"\", **kwargs):\n",
        "    px.line(utils.to_numpy(tensor), labels={\"x\":xaxis, \"y\":yaxis}, **kwargs).show(renderer)\n",
        "\n",
        "def scatter(x, y, xaxis=\"\", yaxis=\"\", caxis=\"\", renderer=None, **kwargs):\n",
        "    x = utils.to_numpy(x)\n",
        "    y = utils.to_numpy(y)\n",
        "    px.scatter(y=y, x=x, labels={\"x\":xaxis, \"y\":yaxis, \"color\":caxis}, **kwargs).show(renderer)"
      ],
      "metadata": {
        "id": "CVIz1ooNUFy5"
      },
      "execution_count": 6,
      "outputs": []
    },
    {
      "cell_type": "code",
      "source": [
        "device = \"cuda\" if torch.cuda.is_available() else \"cpu\""
      ],
      "metadata": {
        "id": "NIuIY0mEURJ6"
      },
      "execution_count": 7,
      "outputs": []
    },
    {
      "cell_type": "code",
      "source": [
        "import os\n",
        "try:\n",
        "  mkdir(Path('/content/'))\n",
        "except:\n",
        "  pass\n",
        "root = Path('/content/a')\n",
        "try:\n",
        "  os.mkdir(root)\n",
        "except:\n",
        "  pass\n",
        "large_root = Path('/content/b')\n",
        "try:\n",
        "  os.mkdir(large_root)\n",
        "except:\n",
        "  pass"
      ],
      "metadata": {
        "id": "HbhjeVgo-mua"
      },
      "execution_count": 8,
      "outputs": []
    },
    {
      "cell_type": "markdown",
      "source": [
        "# Wrapper for training a transformer "
      ],
      "metadata": {
        "id": "lRXUhaBP5_ym"
      }
    },
    {
      "cell_type": "markdown",
      "source": [
        "\n",
        "Summary: this is a function which trains a transformer model on some algorithmic task. In principle this should be able to be used to train transformers on general algotihmic tasks, for any given set of data, function, and desired configuration for a transformer. In practise, I have only used it for a few simple tasks like this!\n",
        "\n",
        "This code was adapted from our Hackathon submission, which was in turn adapted from Neel's Grokking paper.\n",
        "\n",
        "The hyperparameters of the optimizer / the scheduler are hard-coded, and copied from those used by Neel in his grokking paper. I'd be lying if I said I'd tried to properly understand all of them, but I think the most important one is setting weight decay all the way to 1.0 (heavy regularisation gives a big incentive to the network to learn the simplest model it can, which helps prevent overfitting).\n",
        "\n",
        "Aside: I tried to make this a class, but got very bad memory leaks. It would be nice to modularise this more nicely, but it works for my purposes! I also tried to make it a bit nicer using decorators to wrap the train model function, but this ended up being more hastle than it was worth."
      ],
      "metadata": {
        "id": "MgyYLymGCIuJ"
      }
    },
    {
      "cell_type": "code",
      "source": [
        "\n",
        "%matplotlib inline\n",
        "import time\n",
        "import pylab as pl\n",
        "import matplotlib.pyplot as plt\n",
        "from IPython import display\n",
        "\n",
        "\n",
        "def train_model(data, fn, cfg, device='cuda', split=0.7,seed=42,num_epochs=2000):\n",
        "  def cross_entropy_high_precision(logits, labels):\n",
        "      logprobs = F.log_softmax(logits.to(torch.float64), dim=-1)\n",
        "      prediction_logprobs = torch.gather(logprobs, index=labels[:, None], dim=-1)\n",
        "      loss = -torch.mean(prediction_logprobs)\n",
        "      return loss\n",
        "\n",
        "  def full_loss(model, data, labels):\n",
        "      # Take the final position only\n",
        "      logits = model(data)[:, -1]\n",
        "      return cross_entropy_high_precision(logits, labels)\n",
        "\n",
        "  # Do the initial setup\n",
        "  # Create HookedTransformer Model\n",
        "  model = HookedTransformer(cfg).to(device)\n",
        "  optimizer = torch.optim.AdamW(model.parameters(), lr=1e-3, betas=(0.9, 0.98), weight_decay=1.0)\n",
        "  scheduler = optim.lr_scheduler.LambdaLR(optimizer, lambda step: min(step/10, 1))\n",
        "  # Generate train and test split\n",
        "  random.seed(seed)\n",
        "  random.shuffle(data)\n",
        "  div = int(split*len(data))\n",
        "  train, test = torch.tensor(data[:div]).to(device), torch.tensor(data[div:]).to(device)\n",
        "  train_labels = torch.tensor([fn(x) for x in train]).to(device)\n",
        "  test_labels = torch.tensor([fn(x) for x  in test]).to(device)\n",
        "\n",
        "  #Saving the runs\n",
        "  run_name = f\"grok_{int(time.time())}\"\n",
        "  save_every = 1000\n",
        "  try:\n",
        "    os.mkdir(root/run_name)\n",
        "  except:\n",
        "    pass\n",
        "\n",
        "  print(\"device =\", device)\n",
        "\n",
        "  def cross_entropy_high_precision(logits, labels):\n",
        "      logprobs = F.log_softmax(logits.to(torch.float64), dim=-1)\n",
        "      prediction_logprobs = torch.gather(logprobs, index=labels[:, None], dim=-1)\n",
        "      loss = -torch.mean(prediction_logprobs)\n",
        "      return loss\n",
        "\n",
        "\n",
        "  def full_loss(model, data, labels):\n",
        "      # Take the final position only\n",
        "      logits = model(data)[:, -1]\n",
        "      return cross_entropy_high_precision(logits, labels)\n",
        "\n",
        "  train_losses = []\n",
        "  test_losses = []\n",
        "  for epoch in tqdm.tqdm(range(num_epochs + 1)):\n",
        "      train_loss = full_loss(model, train, train_labels)\n",
        "      test_loss = full_loss(model, test, test_labels)\n",
        "      train_losses.append(train_loss.item())\n",
        "      test_losses.append(test_loss.item())\n",
        "\n",
        "      train_loss.backward()\n",
        "      optimizer.step()\n",
        "      scheduler.step()\n",
        "      optimizer.zero_grad()\n",
        "      torch.cuda.empty_cache()\n",
        "        \n",
        "      if epoch%save_every == 0:\n",
        "          save_dict = {\n",
        "                  'model': model.state_dict(),\n",
        "                  'optimizer': optimizer.state_dict(),\n",
        "                  'scheduler': scheduler.state_dict(),\n",
        "                  'train_loss': train_loss,\n",
        "                  'test_loss': test_loss,\n",
        "                  'epoch': epoch,\n",
        "          }\n",
        "          torch.save(save_dict, root/run_name/f\"{epoch}.pth\")\n",
        "          print(f\"Saved model to {root/run_name/f'{epoch}.pth'}\")\n",
        "      \n",
        "      if epoch % 100 == 0:\n",
        "        plt.semilogy(list([l for l in train_losses]), color=\"blue\")\n",
        "        plt.semilogy(list([l for l in test_losses]), color=\"red\")\n",
        "        display.clear_output(wait=True)\n",
        "        display.display(pl.gcf())\n",
        "        time.sleep(0.01)\n",
        "\n",
        "      if epoch % 100 == 0:\n",
        "        print(f\"Epoch: {epoch}. Loss: {train_loss}\")\n",
        "  \n",
        "  return model"
      ],
      "metadata": {
        "id": "5LawrPULZV40"
      },
      "execution_count": 9,
      "outputs": []
    },
    {
      "cell_type": "code",
      "source": [],
      "metadata": {
        "id": "nksZT6uglETq"
      },
      "execution_count": 9,
      "outputs": []
    },
    {
      "cell_type": "markdown",
      "source": [
        "# Some Interpretability Tools"
      ],
      "metadata": {
        "id": "9PB6aiQPa_d-"
      }
    },
    {
      "cell_type": "markdown",
      "source": [
        "\n",
        "I didn't really need to make these separately for this notebook, but it should make any similar interpretability stuff I do easier!\n",
        "\n",
        "The underlying information for our models is made accessible via the [Transformer Lens library](https://github.com/neelnanda-io/TransformerLens). The code for the OV copying score functions also came from Neel's Transformer Lens Demo."
      ],
      "metadata": {
        "id": "OdNKzyy6B38-"
      }
    },
    {
      "cell_type": "code",
      "source": [
        "import circuitsvis as cv\n",
        "\n",
        "def plot_logits(model, input):\n",
        "  input = torch.tensor(input)\n",
        "  logits, cache = model.run_with_cache(input, remove_batch_dim = True)\n",
        "  fig, ax = plt.subplots(figsize=(40,4))\n",
        "  ax.plot(logits[0][-1].cpu().detach().numpy())\n",
        "  plt.show()\n",
        "\n",
        "def generate_attn_pattern(model, input):\n",
        "  input = torch.tensor(input)\n",
        "  logits, cache = model.run_with_cache(input, remove_batch_dim = True)\n",
        "  attn_pattern = cache[\"pattern\", 0, \"attn\"]\n",
        "  return cv.attention.attention_patterns(tokens = [str(t) for t in list(input.detach().cpu().numpy())], attention = attn_pattern)\n",
        "\n",
        "def OV_copying_score(model):\n",
        "  OV_circuit_all_heads = model.OV\n",
        "  OV_circuit_all_heads_eigenvalues = OV_circuit_all_heads.eigenvalues \n",
        "  OV_copying_score2 = OV_circuit_all_heads_eigenvalues.sum(dim=-1).real / OV_circuit_all_heads_eigenvalues.abs().sum(dim=-1)\n",
        "  return OV_copying_score2\n",
        "\n",
        "def OV_full_copying_score(model):\n",
        "  OV_circuit_all_heads = model.OV\n",
        "  full_OV_circuit = model.embed.W_E @ OV_circuit_all_heads @ model.unembed.W_U\n",
        "  full_OV_circuit_eigenvalues = full_OV_circuit.eigenvalues\n",
        "  full_OV_copying_score = full_OV_circuit_eigenvalues.sum(dim=-1).real / full_OV_circuit_eigenvalues.abs().sum(dim=-1)\n",
        "  return full_OV_copying_score\n",
        "\n",
        "# Seeing what happens if we simply embed and then unembed\n",
        "def embed_unembed_copying_score(model):\n",
        "  nothing = FactoredMatrix(model.embed.W_E, model.unembed.W_U)\n",
        "  nothing_eigenvalues = nothing.eigenvalues\n",
        "  nothing_score = nothing_eigenvalues.sum(dim=-1).real / nothing_eigenvalues.abs().sum(dim=-1)\n",
        "  return nothing_score\n"
      ],
      "metadata": {
        "id": "rOSmuQx--qFi"
      },
      "execution_count": 10,
      "outputs": []
    },
    {
      "cell_type": "markdown",
      "source": [
        "# Training our Model\n"
      ],
      "metadata": {
        "id": "hDxidUPsvKbc"
      }
    },
    {
      "cell_type": "markdown",
      "source": [
        "Here is the configuration of the transformer we will train to find the minimum of two numbers, which range from 0 - 99.\n",
        "\n",
        "Here are some important aspects to note about the configuration. I have made the configuration as simple as possible, in order to aid in interpreting it.\n",
        "\n",
        "1 - The dimension space of the model is actually bigger than the range of numbers that can be input to the transformer. (d_model > d_vocab)\n",
        "\n",
        "2 - I am using a single attention layer, and a single attention head within this layer. (n_layers and n_heads)\n",
        "\n",
        "3 - I am not applying Layer normalisation.\n",
        "\n",
        "4 - I am not using the MLP layer.\n",
        "\n",
        "Note that by default, some form of positional embedding is occurring."
      ],
      "metadata": {
        "id": "nQZqkuwaovpu"
      }
    },
    {
      "cell_type": "code",
      "source": [
        "p = 100\n",
        "d_vocab = p+1\n",
        "n_ctx = 2\n",
        "\n",
        "tiny_cfg2 = HookedTransformerConfig(\n",
        "    d_model=128,\n",
        "    d_head=128//1,\n",
        "    n_heads=1,\n",
        "    attn_only=True,\n",
        "    n_layers=1,\n",
        "    n_ctx=n_ctx,\n",
        "    act_fn=\"relu\", #solu_ln\n",
        "    d_vocab=d_vocab,\n",
        "    normalization_type=None, #\"LN\",\n",
        "    seed=23,  # Check this seed is actually used somewhere lmao\n",
        ")\n"
      ],
      "metadata": {
        "id": "08_39-Bwvf7d"
      },
      "execution_count": 11,
      "outputs": []
    },
    {
      "cell_type": "markdown",
      "source": [
        "Every pair of numbers from 0-99 is being used for either training or validation. Importantly, there is no cross-over between the training and validation datasets.\n",
        "(I think that) the entire training set is used in a single epoch of training, and the entire validation set is used each time the model is validated. "
      ],
      "metadata": {
        "id": "nBgWmjA5sZ7k"
      }
    },
    {
      "cell_type": "code",
      "source": [
        "data = [(i, j) for i in range(p) for j in range(p)]\n",
        "\n",
        "fn = lambda x:min(x)\n",
        "\n",
        "small_model = train_model(data, fn, tiny_cfg2, num_epochs=10000)"
      ],
      "metadata": {
        "colab": {
          "base_uri": "https://localhost:8080/",
          "height": 530,
          "referenced_widgets": [
            "9f23d8209d104f4584669525c41fb520",
            "fb2606f7f84245d79e72fa152c82a3fb",
            "c13b2942c5a840d880aa468cdfd459aa",
            "887ff610eecd4e7dacb43f7d267f8a05",
            "e438e14f6add4ac6a6329c2b9682b975",
            "e4c84196bbfa4ea8a8489a8bd2110f8a",
            "1b8f00787c9a4f47a26a8dfba3ea5c67",
            "f17a6866c476412a9c7dc479266323de",
            "654a39afbc044a6a9556fa93bf9ad47c",
            "f376bf3a01f84b638a76616d6b148d5f",
            "5a0c422fcc5c4b3ab3fdb4b46ad13cb0"
          ]
        },
        "id": "oaVcFlLaot7e",
        "outputId": "ced6d1a5-2252-46f1-f4f5-a6c53b8ea966"
      },
      "execution_count": 12,
      "outputs": [
        {
          "output_type": "display_data",
          "data": {
            "text/plain": [
              "<Figure size 432x288 with 1 Axes>"
            ],
            "image/png": "[encoded data removed]"
          },
          "metadata": {}
        },
        {
          "output_type": "stream",
          "name": "stdout",
          "text": [
            "Epoch: 10000. Loss: 1.4813286745722305e-07\n"
          ]
        },
        {
          "output_type": "display_data",
          "data": {
            "text/plain": [
              "<Figure size 432x288 with 1 Axes>"
            ],
            "image/png": "[encoded data removed]"
          },
          "metadata": {
            "needs_background": "light"
          }
        }
      ]
    },
    {
      "cell_type": "markdown",
      "source": [
        "Let's get the accuracy of the final model:"
      ],
      "metadata": {
        "id": "t1z4Ovp3y7a0"
      }
    },
    {
      "cell_type": "code",
      "source": [
        "correct = 0\n",
        "false = 0\n",
        "for point in data:\n",
        "  if int(torch.argmax(small_model(torch.tensor(point))[0][-1])) == min(point):\n",
        "    correct += 1\n",
        "  else:\n",
        "    break\n",
        "    false += 1"
      ],
      "metadata": {
        "id": "633_Wnbey684"
      },
      "execution_count": 13,
      "outputs": []
    },
    {
      "cell_type": "code",
      "source": [
        "print(correct / (correct + false)) "
      ],
      "metadata": {
        "colab": {
          "base_uri": "https://localhost:8080/"
        },
        "id": "ig9yxW3szk0P",
        "outputId": "010b8848-fd75-4217-9621-a928482ec614"
      },
      "execution_count": 14,
      "outputs": [
        {
          "output_type": "stream",
          "name": "stdout",
          "text": [
            "1.0\n"
          ]
        }
      ]
    },
    {
      "cell_type": "markdown",
      "source": [
        "It's pretty good!"
      ],
      "metadata": {
        "id": "1cqC6ce607-Z"
      }
    },
    {
      "cell_type": "markdown",
      "source": [
        "# Recap of how GPT-2 style models work\n"
      ],
      "metadata": {
        "id": "02iYjIlw3XBG"
      }
    },
    {
      "cell_type": "markdown",
      "source": [
        "In order to understand the following analysis, I think that it is pretty important to understand how transformers work in general, and I think it is relatively important to understand how GPT-2 style transformers work specifically. I'm not going to go into great detail here, but I will recap some basic points. For a further and more detailed explanation of this, I'd suggest going through Anthropic's \"[A Mathematical Framework for Transformer Circuits](https://transformer-circuits.pub/2021/framework/index.html)\", as well as Neel's accompanying walkthrough [video](https://www.youtube.com/watch?v=KV5gbOmHbjU) (I found the latter very useful, to the extent that friends often tease me for bringing it up in conversations)."
      ],
      "metadata": {
        "id": "m1fKk2QQ5Xu4"
      }
    },
    {
      "cell_type": "markdown",
      "source": [
        "Attention heads can be broken up into two essentially independent components. The first of these is the QK circuit, which we can think of as governing \"which token should the attention head pay attention to\". This is then subject to softmax to give us a probability like vector, where each component corresponds to how much the head will pay attention to each token.\n",
        "\n",
        "The second component of the attention head is the OV circuit. This is what determines the information that should be moved from a token, given that we are paying attention to it.\n",
        "\n",
        "Generally, a transformer has mutliple sequential attention layers, and each attention layer is formed from multiple attention heads operating in parallel. This makes the transformer able to learn much more complicated behaviour, at the cost of being more difficult to interpret.\n",
        "\n",
        "However, since our model contains a single attention layer with only one attention head, and as we have no MLP layer or layer norm, if we are able to understand precisely how the QK and OV circuits of our single attention head work, we can describe precisely how our transformer works!"
      ],
      "metadata": {
        "id": "F7AbEsyRe6RD"
      }
    },
    {
      "cell_type": "markdown",
      "source": [
        "As a small technical note, notice the shape of the output of the model:"
      ],
      "metadata": {
        "id": "ISdnwpQXiB_i"
      }
    },
    {
      "cell_type": "code",
      "source": [
        "input = torch.tensor(np.random.choice(100,2))\n",
        "small_model.run_with_cache(input)[0].shape"
      ],
      "metadata": {
        "colab": {
          "base_uri": "https://localhost:8080/"
        },
        "id": "TmXMYoRxifhq",
        "outputId": "7be8227b-6701-40f6-c906-0805047f3f8d"
      },
      "execution_count": 15,
      "outputs": [
        {
          "output_type": "execute_result",
          "data": {
            "text/plain": [
              "torch.Size([1, 2, 101])"
            ]
          },
          "metadata": {},
          "execution_count": 15
        }
      ]
    },
    {
      "cell_type": "markdown",
      "source": [
        "The first index is the batch index (we will just run through one at a time, so this will always be 1 for us). The third index corresponds to the model's predictions: index 0 giving the transformer's probability prediction that the minimum is 0, etc.\n",
        "\n",
        "The second index corresponds to the output logit at each position. This is essentially an artifact of the architecture of GPT-2 style transformers: in text applications you generally see index 0 being a prediction for the next token after seeing the first token, index 1 being a prediction for the next token after seeing the first two tokens, and so on. We have trained the model only on its predictions after seeing two tokens, so we only care about the -1 element for the second index.\n",
        "\n",
        "Hopefully, this explains why you may often see me access different aspects of the model by indexing $[0][-1]$ : this is simply how we access the activations of the model that are relevant for how it predicts the minimum."
      ],
      "metadata": {
        "id": "ZCifFot-jhUm"
      }
    },
    {
      "cell_type": "markdown",
      "source": [
        "Ole note: do I need to include this?"
      ],
      "metadata": {
        "id": "s7hUqzhO6vev"
      }
    },
    {
      "cell_type": "markdown",
      "source": [
        "#Super Basic Interpretability "
      ],
      "metadata": {
        "id": "HUTvm0VU3i8Z"
      }
    },
    {
      "cell_type": "markdown",
      "source": [
        "Let's take a look at its attention pattern. This corresponds to the model asking \"to which token in the input should the most attention be paid\", or more technically the softmax of the output of the QK circuit."
      ],
      "metadata": {
        "id": "aU6UdVqE1pln"
      }
    },
    {
      "cell_type": "code",
      "source": [
        "generate_attn_pattern(small_model, torch.tensor([90,25]))"
      ],
      "metadata": {
        "colab": {
          "base_uri": "https://localhost:8080/",
          "height": 447
        },
        "id": "S_655FLq2y9K",
        "outputId": "f209541a-7fbe-4f0e-9a5a-13038f651847"
      },
      "execution_count": 16,
      "outputs": [
        {
          "output_type": "stream",
          "name": "stderr",
          "text": [
            "<ipython-input-10-1936fffec4a0>:11: UserWarning:\n",
            "\n",
            "To copy construct from a tensor, it is recommended to use sourceTensor.clone().detach() or sourceTensor.clone().detach().requires_grad_(True), rather than torch.tensor(sourceTensor).\n",
            "\n"
          ]
        },
        {
          "output_type": "execute_result",
          "data": {
            "text/plain": [
              "<circuitsvis.utils.render.RenderedHTML at 0x7f37a1889eb0>"
            ],
            "text/html": [
              "<div id=\"circuits-vis-d3071a62-f35d\" style=\"margin: 15px 0;\"/>\n",
              "    <script crossorigin type=\"module\">\n",
              "    import { render, AttentionPatterns } from \"https://unpkg.com/circuitsvis@1.38.0/dist/cdn/esm.js\";\n",
              "    render(\n",
              "      \"circuits-vis-d3071a62-f35d\",\n",
              "      AttentionPatterns,\n",
              "      {\"tokens\": [\"90\", \"25\"], \"attention\": [[[1.0, 0.0], [1.6059996756946637e-13, 1.0]]]}\n",
              "    )\n",
              "    </script>"
            ]
          },
          "metadata": {},
          "execution_count": 16
        }
      ]
    },
    {
      "cell_type": "code",
      "source": [
        "generate_attn_pattern(small_model, torch.tensor([4,30]))"
      ],
      "metadata": {
        "colab": {
          "base_uri": "https://localhost:8080/",
          "height": 447
        },
        "id": "71mvzVdQmEjl",
        "outputId": "f86325e0-69c4-4c04-d1c7-e28e38ef0c7e"
      },
      "execution_count": 17,
      "outputs": [
        {
          "output_type": "stream",
          "name": "stderr",
          "text": [
            "<ipython-input-10-1936fffec4a0>:11: UserWarning:\n",
            "\n",
            "To copy construct from a tensor, it is recommended to use sourceTensor.clone().detach() or sourceTensor.clone().detach().requires_grad_(True), rather than torch.tensor(sourceTensor).\n",
            "\n"
          ]
        },
        {
          "output_type": "execute_result",
          "data": {
            "text/plain": [
              "<circuitsvis.utils.render.RenderedHTML at 0x7f37a19e5a90>"
            ],
            "text/html": [
              "<div id=\"circuits-vis-14ddbff8-ecc8\" style=\"margin: 15px 0;\"/>\n",
              "    <script crossorigin type=\"module\">\n",
              "    import { render, AttentionPatterns } from \"https://unpkg.com/circuitsvis@1.38.0/dist/cdn/esm.js\";\n",
              "    render(\n",
              "      \"circuits-vis-14ddbff8-ecc8\",\n",
              "      AttentionPatterns,\n",
              "      {\"tokens\": [\"4\", \"30\"], \"attention\": [[[1.0, 0.0], [0.9999996423721313, 3.0779173698647355e-07]]]}\n",
              "    )\n",
              "    </script>"
            ]
          },
          "metadata": {},
          "execution_count": 17
        }
      ]
    },
    {
      "cell_type": "markdown",
      "source": [
        "The bottom row of these plots are what are relevant for us. These show clearly that the QK circuit is successfully paying attention to the smallest number in the pair."
      ],
      "metadata": {
        "id": "83BxZcD2mUPj"
      }
    },
    {
      "cell_type": "markdown",
      "source": [
        " Let's have a look at its logits, for this random input. As a reminder, logits are the raw output of the transformer, before we apply softmax to the outputs to get a probabilistic looking answer."
      ],
      "metadata": {
        "id": "ZntkDahb7TNw"
      }
    },
    {
      "cell_type": "code",
      "source": [
        "plot_logits(small_model, torch.tensor([31, 44]))"
      ],
      "metadata": {
        "colab": {
          "base_uri": "https://localhost:8080/",
          "height": 270
        },
        "id": "A-lUaVp11FwI",
        "outputId": "521519a1-0bde-405a-fd37-f6e3d951e2cb"
      },
      "execution_count": 18,
      "outputs": [
        {
          "output_type": "stream",
          "name": "stderr",
          "text": [
            "<ipython-input-10-1936fffec4a0>:4: UserWarning:\n",
            "\n",
            "To copy construct from a tensor, it is recommended to use sourceTensor.clone().detach() or sourceTensor.clone().detach().requires_grad_(True), rather than torch.tensor(sourceTensor).\n",
            "\n"
          ]
        },
        {
          "output_type": "display_data",
          "data": {
            "text/plain": [
              "<Figure size 2880x288 with 1 Axes>"
            ],
            "image/png": "[encoded data removed]"
          },
          "metadata": {
            "needs_background": "light"
          }
        }
      ]
    },
    {
      "cell_type": "markdown",
      "source": [
        "The only distinguishable pattern here is that there is a clear peak at the minimum (31), with what looks essentially like noise for all other values."
      ],
      "metadata": {
        "id": "J-94z-J_15lB"
      }
    },
    {
      "cell_type": "markdown",
      "source": [
        "This is essentially where we got to at the end of the Hackathon (most of our time was spent trying to train a transformer in the first place!). The story we could convincingly tell at the end of this was \"transformers pay the most attention to the token corresponding to the smallest input\". \n",
        "\n",
        "Although I still agree this is true, I think we can tell a more comprehensive story than this!"
      ],
      "metadata": {
        "id": "MyQWrzQd3rva"
      }
    },
    {
      "cell_type": "markdown",
      "source": [
        "# *Interesting part* How I think it is working"
      ],
      "metadata": {
        "id": "S8Y_1HaathXb"
      }
    },
    {
      "cell_type": "markdown",
      "source": [
        "Here is how I think the transformer is working. I'll try to highlight my key uncertainties, and why my justification for each claim."
      ],
      "metadata": {
        "id": "MC9pN1C9uJtt"
      }
    },
    {
      "cell_type": "markdown",
      "source": [
        "Overall, I think the algorithm being carried out by the transformer is:\n",
        "1. Pay attention to an input number, corresponding to how small that input is. The smaller the number, the more attention we pay to that input.\n",
        "2. Then, once we are paying attention to a number, we are going to simply copy over the vector corresponding to that number, and add it to the residual stream. \n",
        "3. If the size of the vector we copy over is really big, then it will dwarf the original vector in the residual stream. This essentially means it is just replacing the original vector with the new one!"
      ],
      "metadata": {
        "id": "wC7ZlWo3uqlx"
      }
    },
    {
      "cell_type": "markdown",
      "source": [
        "## Claim 1: attention scores are negatively proportional to the size of the number."
      ],
      "metadata": {
        "id": "cHoydvCPxDqt"
      }
    },
    {
      "cell_type": "markdown",
      "source": [
        "Our first basic look at attention patterns suggested that the model pays most attention to smaller tokens. But we can do a fair bit better than this.\n",
        "\n",
        "Firstly, let's hold the second token constant at say 50, and vary the first token we give as input.\n",
        "\n",
        "We then look at the attention that the QK circuit gives to the first token, i.e. that which we vary:"
      ],
      "metadata": {
        "id": "zlUFWvsAeVwy"
      }
    },
    {
      "cell_type": "code",
      "source": [
        "# Hold the second token constant, look at the attention pattern\n",
        "attn_to_i = []\n",
        "for i in range(100):\n",
        "  input = torch.tensor([i, 50])\n",
        "  logits, cache = small_model.run_with_cache(input, remove_batch_dim = True)\n",
        "  attn_pattern = cache[\"pattern\", 0, \"attn\"]\n",
        "  attn_to_i.append(float(attn_pattern[0][-1][0]))\n",
        "\n",
        "plt.plot(range(100), attn_to_i)\n"
      ],
      "metadata": {
        "colab": {
          "base_uri": "https://localhost:8080/",
          "height": 282
        },
        "id": "YB-HMbLS0HTB",
        "outputId": "9a68f3bd-a6b5-4dde-85c4-f3a173c4b6f9"
      },
      "execution_count": 19,
      "outputs": [
        {
          "output_type": "execute_result",
          "data": {
            "text/plain": [
              "[<matplotlib.lines.Line2D at 0x7f37a15b95b0>]"
            ]
          },
          "metadata": {},
          "execution_count": 19
        },
        {
          "output_type": "display_data",
          "data": {
            "text/plain": [
              "<Figure size 432x288 with 1 Axes>"
            ],
            "image/png": "[encoded data removed]"
          },
          "metadata": {
            "needs_background": "light"
          }
        }
      ]
    },
    {
      "cell_type": "markdown",
      "source": [
        "This looks remarkably like a negative sigmoid function! To unpack this a bit further, let's look at the raw attention scores (attention before we apply softmax)."
      ],
      "metadata": {
        "id": "4Y2Z-S4cnfcO"
      }
    },
    {
      "cell_type": "code",
      "source": [
        "attn_to_i = []\n",
        "for i in range(100):\n",
        "  input = torch.tensor([i, 50])\n",
        "  logits, cache = small_model.run_with_cache(input, remove_batch_dim = True)\n",
        "  attn_pattern = cache[\"attn_scores\", 0, \"attn\"]\n",
        "  attn_to_i.append(float(attn_pattern[0][-1][0]))\n",
        "\n",
        "plt.plot(range(100),attn_to_i)"
      ],
      "metadata": {
        "colab": {
          "base_uri": "https://localhost:8080/",
          "height": 282
        },
        "id": "w4G-htZQnuXw",
        "outputId": "9fde4a93-42fe-40d3-deda-53877b56f6d9"
      },
      "execution_count": 20,
      "outputs": [
        {
          "output_type": "execute_result",
          "data": {
            "text/plain": [
              "[<matplotlib.lines.Line2D at 0x7f37a1a28730>]"
            ]
          },
          "metadata": {},
          "execution_count": 20
        },
        {
          "output_type": "display_data",
          "data": {
            "text/plain": [
              "<Figure size 432x288 with 1 Axes>"
            ],
            "image/png": "[encoded data removed]"
          },
          "metadata": {
            "needs_background": "light"
          }
        }
      ]
    },
    {
      "cell_type": "markdown",
      "source": [
        "This looks remarkably smooth! Besides the slight bumps, it has learned a decreasing relationship between attention score and size of the number."
      ],
      "metadata": {
        "id": "UGxT3p6loNCP"
      }
    },
    {
      "cell_type": "markdown",
      "source": [
        "Let's repeat this whilst varying the right hand side instead of the left, and let's change the value from 50 to, say 25"
      ],
      "metadata": {
        "id": "1gpAD6I7x1hx"
      }
    },
    {
      "cell_type": "code",
      "source": [
        "attn_to_i = []\n",
        "for i in range(100):\n",
        "  input = torch.tensor([50, i])\n",
        "  logits, cache = small_model.run_with_cache(input, remove_batch_dim = True)\n",
        "  attn_pattern = cache[\"attn_scores\", 0, \"attn\"]\n",
        "  attn_to_i.append(float(attn_pattern[0][-1][1]))\n",
        "\n",
        "plt.plot(range(100),attn_to_i)"
      ],
      "metadata": {
        "colab": {
          "base_uri": "https://localhost:8080/",
          "height": 282
        },
        "id": "lj_RXzcwyD98",
        "outputId": "e46c0d54-faeb-47b6-b1eb-480c52d3efa8"
      },
      "execution_count": 21,
      "outputs": [
        {
          "output_type": "execute_result",
          "data": {
            "text/plain": [
              "[<matplotlib.lines.Line2D at 0x7f37a1706e20>]"
            ]
          },
          "metadata": {},
          "execution_count": 21
        },
        {
          "output_type": "display_data",
          "data": {
            "text/plain": [
              "<Figure size 432x288 with 1 Axes>"
            ],
            "image/png": "[encoded data removed]"
          },
          "metadata": {
            "needs_background": "light"
          }
        }
      ]
    },
    {
      "cell_type": "markdown",
      "source": [
        "Maybe not exactly the same, but by and large this is equivalent!"
      ],
      "metadata": {
        "id": "0xoFoYLQyDyP"
      }
    },
    {
      "cell_type": "code",
      "source": [
        "attn_to_i = []\n",
        "for i in range(100):\n",
        "  input = torch.tensor([4, i])\n",
        "  logits, cache = small_model.run_with_cache(input, remove_batch_dim = True)\n",
        "  attn_pattern = cache[\"attn_scores\", 0, \"attn\"]\n",
        "  attn_to_i.append(float(attn_pattern[0][-1][1]))\n",
        "\n",
        "plt.plot(range(100),attn_to_i)"
      ],
      "metadata": {
        "colab": {
          "base_uri": "https://localhost:8080/",
          "height": 282
        },
        "id": "9zyef59PyX7C",
        "outputId": "a4d9b256-c5b3-42fe-94d4-f2e48e1750d4"
      },
      "execution_count": 22,
      "outputs": [
        {
          "output_type": "execute_result",
          "data": {
            "text/plain": [
              "[<matplotlib.lines.Line2D at 0x7f37a02b8460>]"
            ]
          },
          "metadata": {},
          "execution_count": 22
        },
        {
          "output_type": "display_data",
          "data": {
            "text/plain": [
              "<Figure size 432x288 with 1 Axes>"
            ],
            "image/png": "[encoded data removed]"
          },
          "metadata": {
            "needs_background": "light"
          }
        }
      ]
    },
    {
      "cell_type": "markdown",
      "source": [
        "Again, this is incredibly similar! \n",
        "From these plots, I feel very confident that it is learning a negative relationship here between size of the number, and attention to give it."
      ],
      "metadata": {
        "id": "uScoAChYyewA"
      }
    },
    {
      "cell_type": "markdown",
      "source": [
        "###Sub-Question: What is the relationship exactly?"
      ],
      "metadata": {
        "id": "jRXZ6CFIy7nZ"
      }
    },
    {
      "cell_type": "markdown",
      "source": [
        "This section is a bit more speculative than the above. However, there are two aspects I would like to investigate a bit more thoroughly: the independence of the query vector (?), and the precise relationship of each curve."
      ],
      "metadata": {
        "id": "itB72BXWzoRL"
      }
    },
    {
      "cell_type": "markdown",
      "source": [
        "#### Part 1: Why is the attention score curve independent of the source token?"
      ],
      "metadata": {
        "id": "1Ir6VohffUle"
      }
    },
    {
      "cell_type": "markdown",
      "source": [
        "The reason to believe the first point is true is simply by observing that the different curves for attention score we have plotted above all look essentially the same: it seems to make no difference. At first glance this makes very little sense, because the activation is the inner product between the query vector corresponding to the second input (I think?), and the key vector corresponding to the second input.\n",
        "\n",
        "It is worth remembering that generally speaking, it doesn't make sense to look at q and k values separately: since they are only ever used as a product, we can get all the information we need out of them by looking at the products of the Q and K matrices, hence the term QK circuit.\n",
        "\n",
        "However, the invariance of the attention score plots to the source token (corresponding to the Q matrix) suggested that something funny was going on: maybe the hard work is all being done by the K matrix here, and we only care about information from the target token?"
      ],
      "metadata": {
        "id": "tLyuGt0k4NCC"
      }
    },
    {
      "cell_type": "markdown",
      "source": [
        "To investigate this, I first collected all possible key and query activations (this corresponds to finding the key and query matrices, although I'm not sure what the precise relationship is) "
      ],
      "metadata": {
        "id": "3GQQ3jWtYH0B"
      }
    },
    {
      "cell_type": "code",
      "source": [
        "keys = []\n",
        "queries = []\n",
        "for i in range(100):\n",
        "  logits, cache = small_model.run_with_cache(torch.tensor((i, 90)))\n",
        "  queries.append(cache[\"q\", 0][0][0])\n",
        "  keys.append(cache[\"k\", 0][0][0])\n"
      ],
      "metadata": {
        "id": "eDmNyJY9O_fj"
      },
      "execution_count": 23,
      "outputs": []
    },
    {
      "cell_type": "markdown",
      "source": [
        "##### Query Vectors"
      ],
      "metadata": {
        "id": "0PLnZLGXkCMb"
      }
    },
    {
      "cell_type": "markdown",
      "source": [
        "As a caveat before I do this analysis: I think doing anaylsis of query and key values in this way is generally a bad idea, especially for tasks which are more difficult than this (i.e. basically everything we actually use transformers for in the real world!). That said, let's look at some random query vectors:"
      ],
      "metadata": {
        "id": "XMA6xy2pls6-"
      }
    },
    {
      "cell_type": "code",
      "source": [
        "print(\"First 10 entries of the query vector produced by 25: \", queries[25][0][:10])\n",
        "print(\"First 10 entries of the query vector produced by 26: \", queries[26][0][:10])"
      ],
      "metadata": {
        "colab": {
          "base_uri": "https://localhost:8080/"
        },
        "id": "n_ab4_zAkylQ",
        "outputId": "d5c43abd-136b-4b85-e82b-056334388244"
      },
      "execution_count": 43,
      "outputs": [
        {
          "output_type": "stream",
          "name": "stdout",
          "text": [
            "First 10 entries of the query vector produced by 25:  tensor([ 0.3183, -0.3371,  0.3214,  0.3423, -0.1536,  0.3249,  0.3030,  0.3249,\n",
            "         0.1756, -0.3324], device='cuda:0')\n",
            "First 10 entries of the query vector produced by 26:  tensor([ 0.2492, -0.2662,  0.2553,  0.2694, -0.1086,  0.2571,  0.2415,  0.2553,\n",
            "         0.1370, -0.2612], device='cuda:0')\n"
          ]
        }
      ]
    },
    {
      "cell_type": "code",
      "source": [
        "print(\"First 10 entries of the query vector produced by 50: \", queries[50][0][:10])\n",
        "print(\"First 10 entries of the query vector produced by 90: \", queries[90][0][:10])"
      ],
      "metadata": {
        "colab": {
          "base_uri": "https://localhost:8080/"
        },
        "id": "ODeZUjeAk32v",
        "outputId": "e7848d7a-2165-41f0-856e-19a38f56a909"
      },
      "execution_count": 44,
      "outputs": [
        {
          "output_type": "stream",
          "name": "stdout",
          "text": [
            "First 10 entries of the query vector produced by 50:  tensor([ 0.3160, -0.3375,  0.3217,  0.3418, -0.1440,  0.3247,  0.3038,  0.3237,\n",
            "         0.1687, -0.3319], device='cuda:0')\n",
            "First 10 entries of the query vector produced by 90:  tensor([ 0.2809, -0.2975,  0.2825,  0.3016, -0.1411,  0.2860,  0.2669,  0.2867,\n",
            "         0.1531, -0.2937], device='cuda:0')\n"
          ]
        }
      ]
    },
    {
      "cell_type": "markdown",
      "source": [
        "These all look suspiciously similar!! Looking at the norms of the query vectors:"
      ],
      "metadata": {
        "id": "gNHi7HKGlSVg"
      }
    },
    {
      "cell_type": "code",
      "source": [
        "plt.plot(range(100), [torch.norm(queries[i]).cpu() for i in range(100)])"
      ],
      "metadata": {
        "colab": {
          "base_uri": "https://localhost:8080/",
          "height": 282
        },
        "id": "BX1r76zDQyLi",
        "outputId": "5f40c968-a362-452a-cd16-296e3a3fa70a"
      },
      "execution_count": 32,
      "outputs": [
        {
          "output_type": "execute_result",
          "data": {
            "text/plain": [
              "[<matplotlib.lines.Line2D at 0x7f37a01f4b80>]"
            ]
          },
          "metadata": {},
          "execution_count": 32
        },
        {
          "output_type": "display_data",
          "data": {
            "text/plain": [
              "<Figure size 432x288 with 1 Axes>"
            ],
            "image/png": "[encoded data removed]"
          },
          "metadata": {
            "needs_background": "light"
          }
        }
      ]
    },
    {
      "cell_type": "markdown",
      "source": [
        "I think that the norms look relatively randomly distributed. There might be some trend (maybe it trends down at the start?), but I'm somewhat confident in the claim that the meaningful information regarding the attention scores is not to be found here: to the queries we go!"
      ],
      "metadata": {
        "id": "mfuF22NlgQp0"
      }
    },
    {
      "cell_type": "markdown",
      "source": [
        "##### Key Vectors"
      ],
      "metadata": {
        "id": "sIRIQJKRkJbP"
      }
    },
    {
      "cell_type": "markdown",
      "source": [
        "Now, if the information about the size of a number isn't being encoded in the query matrix, it must be in the key matrix! Let's have a look at some of these to work out if this is true"
      ],
      "metadata": {
        "id": "lSJ0OJ0mcV4p"
      }
    },
    {
      "cell_type": "code",
      "source": [
        "print(\"First 10 entries of the key vector produced by 25: \", keys[25][0][:10])\n",
        "print(\"First 10 entries of the key vector produced by 26: \", keys[26][0][:10])\n"
      ],
      "metadata": {
        "colab": {
          "base_uri": "https://localhost:8080/"
        },
        "id": "mixT1tW9cpeb",
        "outputId": "2b9b85b3-8ae4-40ae-a683-013c07148e7b"
      },
      "execution_count": 46,
      "outputs": [
        {
          "output_type": "stream",
          "name": "stdout",
          "text": [
            "First 10 entries of the key vector produced by 25:  tensor([ 0.3713, -0.3970,  0.3775,  0.4018, -0.1722,  0.3813,  0.3563,  0.3803,\n",
            "         0.1977, -0.3900], device='cuda:0')\n",
            "First 10 entries of the key vector produced by 26:  tensor([ 0.3518, -0.3777,  0.3593,  0.3816, -0.1590,  0.3627,  0.3399,  0.3609,\n",
            "         0.1850, -0.3705], device='cuda:0')\n"
          ]
        }
      ]
    },
    {
      "cell_type": "code",
      "source": [
        "print(\"First 10 entries of the key vector produced by 74: \", keys[74][0][:10])\n",
        "print(\"First 10 entries of the key vector produced by 75: \", keys[75][0][:10])"
      ],
      "metadata": {
        "colab": {
          "base_uri": "https://localhost:8080/"
        },
        "id": "jbQq0f1qc29N",
        "outputId": "b8052f59-44c2-4ed2-bfa2-4c91ddd63779"
      },
      "execution_count": 45,
      "outputs": [
        {
          "output_type": "stream",
          "name": "stdout",
          "text": [
            "First 10 entries of the key vector produced by 74:  tensor([-0.4080,  0.4357, -0.4133, -0.4403,  0.1991, -0.4179, -0.3910, -0.4176,\n",
            "        -0.2169,  0.4285], device='cuda:0')\n",
            "First 10 entries of the key vector produced by 75:  tensor([-0.4260,  0.4539, -0.4303, -0.4594,  0.2103, -0.4355, -0.4062, -0.4357,\n",
            "        -0.2272,  0.4468], device='cuda:0')\n"
          ]
        }
      ]
    },
    {
      "cell_type": "markdown",
      "source": [
        "Given the earlier caveat of looking at key and query vectors directly, there definitely looks like a pattern here: the components all look relatively uniform, either increasing or decreasing towards 0, and then either decreasing or increasing afterwards."
      ],
      "metadata": {
        "id": "hj-QP1sEiEV5"
      }
    },
    {
      "cell_type": "markdown",
      "source": [
        "This seems to suggest that magic formula being used by the key vectors to capture how big different numbers are is: just encode it in the magnitude of the key vector!"
      ],
      "metadata": {
        "id": "8shIFetDdk-R"
      }
    },
    {
      "cell_type": "markdown",
      "source": [
        "Let's first look at the norm for key vectors across all possible inputs:"
      ],
      "metadata": {
        "id": "oX8iAr5IaSLe"
      }
    },
    {
      "cell_type": "code",
      "source": [
        "plt.plot(range(100), [torch.norm(keys[i]).cpu() for i in range(100)])"
      ],
      "metadata": {
        "colab": {
          "base_uri": "https://localhost:8080/",
          "height": 286
        },
        "id": "JS7nCruYQd-o",
        "outputId": "20474445-2b4c-4b55-97e1-5c7f6873ed4f"
      },
      "execution_count": 29,
      "outputs": [
        {
          "output_type": "execute_result",
          "data": {
            "text/plain": [
              "[<matplotlib.lines.Line2D at 0x7f37a02f0f40>]"
            ]
          },
          "metadata": {},
          "execution_count": 29
        },
        {
          "output_type": "display_data",
          "data": {
            "text/plain": [
              "<Figure size 432x288 with 1 Axes>"
            ],
            "image/png": "[encoded data removed]"
          },
          "metadata": {
            "needs_background": "light"
          }
        }
      ]
    },
    {
      "cell_type": "markdown",
      "source": [
        "This is certainly capturing some relationship, but not necessarily the relationship, but it isn't the whole story. \n",
        "\n",
        "To help see why, notice that the sign of the components of the vectors either matches with the query vectors for every component, or it is the opposite for every component. This makes sense: if you're trying to make a big inner product, you want each term in the inner product to be positive; if you're trying to make a large negative inner product, you want each term in the inner product to be negative.\n",
        "\n",
        "So what's going on with the above plot is that is capturing the size of the eventual inner product (the attention score), but not the sign. If we take into account where the sign flips:"
      ],
      "metadata": {
        "id": "r2LNsbsxaeHA"
      }
    },
    {
      "cell_type": "code",
      "source": [
        "import math"
      ],
      "metadata": {
        "id": "TAZ-qRrhZ5Pq"
      },
      "execution_count": 30,
      "outputs": []
    },
    {
      "cell_type": "code",
      "source": [
        "plt.plot(range(100), [math.copysign(1, keys[i][0][0].cpu()) * torch.norm(keys[i]).cpu() for i in range(100)])"
      ],
      "metadata": {
        "colab": {
          "base_uri": "https://localhost:8080/",
          "height": 282
        },
        "id": "38L5ZPC5ZFJl",
        "outputId": "33560687-99f7-4d6b-c0bd-778ff07b4a28"
      },
      "execution_count": 31,
      "outputs": [
        {
          "output_type": "execute_result",
          "data": {
            "text/plain": [
              "[<matplotlib.lines.Line2D at 0x7f37a02ad250>]"
            ]
          },
          "metadata": {},
          "execution_count": 31
        },
        {
          "output_type": "display_data",
          "data": {
            "text/plain": [
              "<Figure size 432x288 with 1 Axes>"
            ],
            "image/png": "[encoded data removed]"
          },
          "metadata": {
            "needs_background": "light"
          }
        }
      ]
    },
    {
      "cell_type": "markdown",
      "source": [
        "This looks exactly like the graph for attention scores we found before!! Hence, we really can say that the attention score is explained solely by the key matrix, and that the attention scores are essentially independent of the query matrices."
      ],
      "metadata": {
        "id": "A-xmhOTjastH"
      }
    },
    {
      "cell_type": "markdown",
      "source": [
        "So, why do I think that Q and K are meaningfully separate for this example? Again, my guess would be the presence of weight decay: having the size of the query vectors also vary in proportion to the size of the original token would probably be useful if the training process was optimising for was loss, but it might mean we have to have larger weights overall than just keeping the Q vectors roughly constant and letting K vary. I have not tested this explanation much / at all."
      ],
      "metadata": {
        "id": "42XmaqdRVu50"
      }
    },
    {
      "cell_type": "markdown",
      "source": [
        "##### Tangent: Why not also just look at OV circuits and embeddings directly?"
      ],
      "metadata": {
        "id": "eF4-C6LcrR2r"
      }
    },
    {
      "cell_type": "markdown",
      "source": [
        "This isn't super relevant to the investigation into this transformer, but I have some guesses as to why QK circuits might be more easily interpretable in general than OV circuits.\n",
        "\n",
        "I think the main reason is that when the transformer produces its outputs, it actually needs to tell the difference between values that are close together, say 20 and 21. It produces logits by simply applying a linear map to the residual stream. Hence, if we want to produce a large logit corresponding to 20, but not corresponding to 21 or 19, we need the corresponding vectors in the residual stream to be \"different\" besides just having larger components."
      ],
      "metadata": {
        "id": "aFP9JIMZubfk"
      }
    },
    {
      "cell_type": "markdown",
      "source": [
        "As a tiny bit of evidence for this claim, let's look at the first ten components of the embeddings of 20 and 21. Some of the different components here have different signs, which was not the case when we compared their key or query vectors."
      ],
      "metadata": {
        "id": "p0EZcE3JvRvI"
      }
    },
    {
      "cell_type": "code",
      "source": [
        "logits, cache = small_model.run_with_cache(torch.tensor((20, 90)))\n",
        "cache[\"resid_pre\", 0][0][0][:10] # embedding of 20"
      ],
      "metadata": {
        "colab": {
          "base_uri": "https://localhost:8080/"
        },
        "id": "uPGZmGnnq3FP",
        "outputId": "4ba21b54-3eb6-4ce5-8d30-0f71a4453f73"
      },
      "execution_count": 68,
      "outputs": [
        {
          "output_type": "execute_result",
          "data": {
            "text/plain": [
              "tensor([ 0.2088, -0.2706, -0.0563,  0.0379,  0.1755, -0.2340,  0.1558,  0.2058,\n",
              "         0.0841, -0.0773], device='cuda:0')"
            ]
          },
          "metadata": {},
          "execution_count": 68
        }
      ]
    },
    {
      "cell_type": "code",
      "source": [
        "logits, cache = small_model.run_with_cache(torch.tensor((21, 90)))\n",
        "cache[\"resid_pre\", 0][0][0][:10] # Embedding of 21"
      ],
      "metadata": {
        "colab": {
          "base_uri": "https://localhost:8080/"
        },
        "id": "M0AtbxN9rGQ6",
        "outputId": "9de34f45-f65a-419e-8772-863718f421de"
      },
      "execution_count": 69,
      "outputs": [
        {
          "output_type": "execute_result",
          "data": {
            "text/plain": [
              "tensor([ 0.1545, -0.2708,  0.0648, -0.0440,  0.1708, -0.2914,  0.2218,  0.0018,\n",
              "         0.0516, -0.0383], device='cuda:0')"
            ]
          },
          "metadata": {},
          "execution_count": 69
        }
      ]
    },
    {
      "cell_type": "markdown",
      "source": [
        "That being said, I plotted the norms of vectors in the residual stream for all different possible inputs in the first position, and the second. There again seems to be a relationship here!!"
      ],
      "metadata": {
        "id": "dSG0KPFIu6V2"
      }
    },
    {
      "cell_type": "code",
      "source": [
        "first_embeddings = []\n",
        "for i in range(100):\n",
        "  logits, cache = small_model.run_with_cache(torch.tensor((i, 90)))\n",
        "  first_embeddings.append(cache[\"resid_pre\", 0][0][0])\n",
        "  \n",
        "plt.plot(range(100), [torch.norm(embedding).cpu() for embedding in first_embeddings])"
      ],
      "metadata": {
        "colab": {
          "base_uri": "https://localhost:8080/",
          "height": 282
        },
        "id": "PvZNZqyVp4HY",
        "outputId": "f4ca82c3-a596-4f36-fe8a-a4fd666aab17"
      },
      "execution_count": 64,
      "outputs": [
        {
          "output_type": "execute_result",
          "data": {
            "text/plain": [
              "[<matplotlib.lines.Line2D at 0x7f374c67c760>]"
            ]
          },
          "metadata": {},
          "execution_count": 64
        },
        {
          "output_type": "display_data",
          "data": {
            "text/plain": [
              "<Figure size 432x288 with 1 Axes>"
            ],
            "image/png": "[encoded data removed]"
          },
          "metadata": {
            "needs_background": "light"
          }
        }
      ]
    },
    {
      "cell_type": "code",
      "source": [
        "second_embeddings = []\n",
        "for i in range(100):\n",
        "  logits, cache = small_model.run_with_cache(torch.tensor((90, i)))\n",
        "  second_embeddings.append(cache[\"resid_pre\", 0][0][-1])\n",
        "\n",
        "plt.plot(range(100), [torch.norm(embedding).cpu() for embedding in second_embeddings])"
      ],
      "metadata": {
        "colab": {
          "base_uri": "https://localhost:8080/",
          "height": 282
        },
        "id": "6oZZUzUur8wI",
        "outputId": "e3322188-8197-48cc-9ecb-66db1f8b7311"
      },
      "execution_count": 67,
      "outputs": [
        {
          "output_type": "execute_result",
          "data": {
            "text/plain": [
              "[<matplotlib.lines.Line2D at 0x7f37a1601b80>]"
            ]
          },
          "metadata": {},
          "execution_count": 67
        },
        {
          "output_type": "display_data",
          "data": {
            "text/plain": [
              "<Figure size 432x288 with 1 Axes>"
            ],
            "image/png": "[encoded data removed]"
          },
          "metadata": {
            "needs_background": "light"
          }
        }
      ]
    },
    {
      "cell_type": "markdown",
      "source": [
        "\n",
        "#### Part 2: Why does the attention curve look like that?\n",
        "Regarding the precise nature of the above curves, my first guess is that they would be linear, and this seems approximately correct. Transformers are able to learn linear relationships well, so it makes sense that this would also learn a linear relationship to distinguish between numbers.\n",
        "\n",
        "However, the curves above arguably bear more of a resemblence to arctan: they seems to be roughly linear in the middle, before tailing up / down slightly at each end.\n",
        "\n",
        "I think that this actually makes more sense as a strategy than a simple linear relationship. For example, if you see 0, you know that is the minimum number in the list (because our range is 0-99), and you should therefore pay as much attention to 0 as possible. This means that, ideally, you would pay an infinite amount of attention to it.\n",
        "\n",
        "Likewise, if you see 99, you know it's definitely the other number, and thus you should pay as little attention to it as possible. The QK circuit is only able to curve the tail so much at each end (due to weight decay limiting how \"extreme\" the behaviour can be for any given point), but in hindsight I maybe shouldn't have been so surprised to see it learn a relationship with these kinks at either end."
      ],
      "metadata": {
        "id": "ZkoywHcA03WI"
      }
    },
    {
      "cell_type": "markdown",
      "source": [
        "## Claim 2: the attention head is just copying tokens it pays attention to."
      ],
      "metadata": {
        "id": "qgennE-k_kQ7"
      }
    },
    {
      "cell_type": "markdown",
      "source": [
        "I'm basically deferring to the summary statistics developed in the \"A Mathematical Framework for Transformers\" paper from Anthropic to measure copying. You can see further discussion of them [here](https://transformer-circuits.pub/2021/framework/index.html)."
      ],
      "metadata": {
        "id": "X8Y9cYv__1ex"
      }
    },
    {
      "cell_type": "markdown",
      "source": [
        "Here are the copying scores both for only the OV circuit, and for the OV circuit with both the embed and unembed layers taken into account."
      ],
      "metadata": {
        "id": "hRQSEye6Clnu"
      }
    },
    {
      "cell_type": "code",
      "source": [
        "print(OV_copying_score(small_model))\n",
        "print(OV_full_copying_score(small_model))"
      ],
      "metadata": {
        "colab": {
          "base_uri": "https://localhost:8080/"
        },
        "id": "f-Xiy7f2zdtj",
        "outputId": "db479467-2499-41eb-a1d0-a4d48dcbc66d"
      },
      "execution_count": 70,
      "outputs": [
        {
          "output_type": "stream",
          "name": "stdout",
          "text": [
            "tensor([[0.9826]], device='cuda:0', grad_fn=<DivBackward0>)\n",
            "tensor([[0.9988]], device='cuda:0', grad_fn=<DivBackward0>)\n"
          ]
        }
      ]
    },
    {
      "cell_type": "markdown",
      "source": [
        "Given that these are good summary statistics, I'm pretty confident that the attention head is just copying here."
      ],
      "metadata": {
        "id": "jUtryTZYCzC9"
      }
    },
    {
      "cell_type": "markdown",
      "source": [
        "## Claim 3: The attention layer is \"overpowering\" the residual stream."
      ],
      "metadata": {
        "id": "GUndYTEYAZ-9"
      }
    },
    {
      "cell_type": "markdown",
      "source": [
        "A further hypothesis I have about this transformer, is that these networks are not simply copying, but are copying an enlarged version of the token. It makes sense to do this because the output of the OV circuit is being added to the residual stream which contains the embedding of the second token. To minimise the extent to which the embedding of the second token influences the output logits, it seems like a useful strategy to copy over a vector which is as large as possible!\n",
        "\n",
        "Now, if we were using some form of normalisation such as layer norm, this \"overpowering\" would not be possible, since it would limit the size of the vector we add back to the residual stream. However, this model doesn't use Layer Norm!\n",
        "(I think this is how layer norm works)"
      ],
      "metadata": {
        "id": "Oa_jukJBDK6M"
      }
    },
    {
      "cell_type": "markdown",
      "source": [
        "To try to test this, I'm going to go for the simplest measurement I can think of: just compare the l2 norm of the residual stream before we go through the attention layer, with the l2 norm of the activation of the attention layer (which will be added back to the residual stream)."
      ],
      "metadata": {
        "id": "J1ick2toFmzk"
      }
    },
    {
      "cell_type": "code",
      "source": [
        "logits, cache = small_model.run_with_cache(torch.tensor([50, 20]), remove_batch_dim=True)"
      ],
      "metadata": {
        "id": "DTi5iT2VGLV4"
      },
      "execution_count": 71,
      "outputs": []
    },
    {
      "cell_type": "code",
      "source": [
        "torch.norm(cache[\"resid_pre\", 0][-1])"
      ],
      "metadata": {
        "colab": {
          "base_uri": "https://localhost:8080/"
        },
        "id": "IRVXSVXEIcOo",
        "outputId": "305bf311-7489-4d89-c8c9-22ba8dcc921e"
      },
      "execution_count": 72,
      "outputs": [
        {
          "output_type": "execute_result",
          "data": {
            "text/plain": [
              "tensor(3.5786, device='cuda:0')"
            ]
          },
          "metadata": {},
          "execution_count": 72
        }
      ]
    },
    {
      "cell_type": "code",
      "source": [
        "torch.norm(cache[\"attn_out\", 0][-1])"
      ],
      "metadata": {
        "colab": {
          "base_uri": "https://localhost:8080/"
        },
        "id": "aLZoUDtZKtfo",
        "outputId": "bdb144d0-11d4-44e9-d13e-f51ad67e153e"
      },
      "execution_count": 73,
      "outputs": [
        {
          "output_type": "execute_result",
          "data": {
            "text/plain": [
              "tensor(24.6327, device='cuda:0')"
            ]
          },
          "metadata": {},
          "execution_count": 73
        }
      ]
    },
    {
      "cell_type": "code",
      "source": [
        "torch.norm(cache[\"resid_post\", 0][-1])"
      ],
      "metadata": {
        "colab": {
          "base_uri": "https://localhost:8080/"
        },
        "id": "tfFGSD71KvYO",
        "outputId": "2a3d89ea-377e-470b-fc66-67bd8ccf6033"
      },
      "execution_count": 74,
      "outputs": [
        {
          "output_type": "execute_result",
          "data": {
            "text/plain": [
              "tensor(26.0758, device='cuda:0')"
            ]
          },
          "metadata": {},
          "execution_count": 74
        }
      ]
    },
    {
      "cell_type": "markdown",
      "source": [
        "Here is a little sanity check to ensure that we are actually comparing the correct activations!"
      ],
      "metadata": {
        "id": "x-7M2I9zK-Bv"
      }
    },
    {
      "cell_type": "code",
      "source": [
        "cache[\"resid_pre\", 0][-1] + cache[\"attn_out\", 0][-1] == cache[\"resid_post\", 0][-1]"
      ],
      "metadata": {
        "colab": {
          "base_uri": "https://localhost:8080/"
        },
        "id": "yZMGgVUoKy8F",
        "outputId": "ddf91975-cf16-416b-ef20-057a9e90ad1a"
      },
      "execution_count": 75,
      "outputs": [
        {
          "output_type": "execute_result",
          "data": {
            "text/plain": [
              "tensor([True, True, True, True, True, True, True, True, True, True, True, True,\n",
              "        True, True, True, True, True, True, True, True, True, True, True, True,\n",
              "        True, True, True, True, True, True, True, True, True, True, True, True,\n",
              "        True, True, True, True, True, True, True, True, True, True, True, True,\n",
              "        True, True, True, True, True, True, True, True, True, True, True, True,\n",
              "        True, True, True, True, True, True, True, True, True, True, True, True,\n",
              "        True, True, True, True, True, True, True, True, True, True, True, True,\n",
              "        True, True, True, True, True, True, True, True, True, True, True, True,\n",
              "        True, True, True, True, True, True, True, True, True, True, True, True,\n",
              "        True, True, True, True, True, True, True, True, True, True, True, True,\n",
              "        True, True, True, True, True, True, True, True], device='cuda:0')"
            ]
          },
          "metadata": {},
          "execution_count": 75
        }
      ]
    },
    {
      "cell_type": "markdown",
      "source": [
        "Now, I'll calculate the average ratio of the output of the attention layer divided by the residual stream before the attention layer, across 100 random inputs."
      ],
      "metadata": {
        "id": "4VVM4sp8QUJz"
      }
    },
    {
      "cell_type": "code",
      "source": [
        "resid_pre = []\n",
        "attn_out = []\n",
        "for i in range(100):\n",
        "  input = torch.tensor(np.random.choice(100,2))\n",
        "  logits, cache = small_model.run_with_cache(input, remove_batch_dim=True)\n",
        "  resid_pre.append(torch.norm(cache[\"resid_pre\", 0][-1]))\n",
        "  attn_out.append(torch.norm(cache[\"attn_out\", 0][-1]))\n",
        "\n",
        "ratios = [post / pre for (post, pre) in zip(attn_out, resid_pre)]\n",
        "sum(ratios)/len(ratios)"
      ],
      "metadata": {
        "colab": {
          "base_uri": "https://localhost:8080/"
        },
        "id": "EdPKfi2qLX7Q",
        "outputId": "7ccd5949-db62-45b1-82ba-9634552fe014"
      },
      "execution_count": 77,
      "outputs": [
        {
          "output_type": "execute_result",
          "data": {
            "text/plain": [
              "tensor(7.2214, device='cuda:0')"
            ]
          },
          "metadata": {},
          "execution_count": 77
        }
      ]
    },
    {
      "cell_type": "markdown",
      "source": [
        "The output of the attention layer is on average 7x greater than the output of residual stream! Despite the crudeness of this statistic, it feels like relevant information nonetheless. \n",
        "\n",
        "My guess as to why the output of the attention layer isn't even bigger than this is because of the regularisation applied during training. This also makes the above results more significant: the model is having to pay a high penalty to have the high weights necessary to produce large activations in the output, so the fact it is doing so anyway suggests the size of the activations serves an important purpose."
      ],
      "metadata": {
        "id": "qt87NWEpHuo-"
      }
    },
    {
      "cell_type": "markdown",
      "source": [
        "Why isn't the model removing the residual stream, and replacing it entirely with the output of the attention layer? (Expand) 1-layer transformers cannot do this! (Think about if this is true for transformers with more layers, MLP, etc.)\n",
        "\n",
        "\n",
        "In fact, I suspect that this might be generalisable to other transformers where a single attention layer is essentially able to compute the correct answer: a strategy of \"shout so loud the opinions of others cannot be heard\" might well be the learned behaviour here! :)) (expand on this in the takeaways section)"
      ],
      "metadata": {
        "id": "YFQu4gHQPBrz"
      }
    },
    {
      "cell_type": "markdown",
      "source": [
        "# Takeaways"
      ],
      "metadata": {
        "id": "z7a7uhnCAqV2"
      }
    },
    {
      "cell_type": "markdown",
      "source": [
        "1 - I was surprised at how easily interpretable the algorithm carried out by the transformer was! I think the main reasons for simplicity were the super simple nature of the task, and the simplicity of the model (alongside the big pressure towards simplicity thanks to the regularisation). However, it has made me update towards thinking that the algorithms implemented by simple transformers are more interpretable in general, even if the training curve isn't displaying \"grokking\" as clear as in Neel's modular addition example.\n",
        "\n",
        "2 - I think some of the specific techniques here (like the deep dive into the attention score) probably won't generalise very well to other algorithmic tasks, but I think maybe some aspects like an attention head overpowering the residual stream might.\n",
        "\n",
        "3 - Generally, using the Transformer Lens library was pretty straightforward, and made this work much easier than it would have been otherwise!"
      ],
      "metadata": {
        "id": "uI2EH4QhzNAA"
      }
    },
    {
      "cell_type": "markdown",
      "source": [
        "# Further Research"
      ],
      "metadata": {
        "id": "pvT8v28h2RbB"
      }
    },
    {
      "cell_type": "markdown",
      "source": [
        "1 - For this task specifically, which aspects of the explanations generalise to different model architectures? What about to finding the minimum of a larger list (I'd guess it does)? What if we reduce the extent we regularise the model during training?\n",
        "\n",
        "2 - Can we incorporate an analysis of positional embedding for this task?\n",
        "\n",
        "3 - How do transformers embed numbers internally? Especially for smaller values of d_model compared to the number of distinct values it has to learn.\n",
        "\n",
        "4 - Are OV copying scores actually a good measure of whether a transformer is copying? Are there other simple OV behaviours we might look to characterise and measure (such as subtraction)?\n",
        "\n",
        "5 - I think having some interpretability tools on top of Transformer Lens could be useful, although this depends on how difficult they are to implement / how useful a single function is to investigate a range of different tasks / transformers."
      ],
      "metadata": {
        "id": "GVd5Hng0AyX6"
      }
    }
  ]
}