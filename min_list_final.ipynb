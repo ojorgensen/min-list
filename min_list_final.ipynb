{
  "nbformat": 4,
  "nbformat_minor": 0,
  "metadata": {
    "colab": {
      "provenance": [],
      "collapsed_sections": [
        "Cyg1hujmSsN_",
        "lRXUhaBP5_ym",
        "9PB6aiQPa_d-",
        "qgennE-k_kQ7",
        "GUndYTEYAZ-9"
      ],
      "toc_visible": true
    },
    "kernelspec": {
      "name": "python3",
      "display_name": "Python 3"
    },
    "language_info": {
      "name": "python"
    },
    "accelerator": "GPU",
    "gpuClass": "standard",
    "widgets": {
      "application/vnd.jupyter.widget-state+json": {
        "1e7febcebfa0418aa11834ea59877c68": {
          "model_module": "@jupyter-widgets/controls",
          "model_name": "HBoxModel",
          "model_module_version": "1.5.0",
          "state": {
            "_dom_classes": [],
            "_model_module": "@jupyter-widgets/controls",
            "_model_module_version": "1.5.0",
            "_model_name": "HBoxModel",
            "_view_count": null,
            "_view_module": "@jupyter-widgets/controls",
            "_view_module_version": "1.5.0",
            "_view_name": "HBoxView",
            "box_style": "",
            "children": [
              "IPY_MODEL_89b7dbf5bdcf4d37ba3b2f73f057235a",
              "IPY_MODEL_b5f6da086e024da28d280344c2e0fab1",
              "IPY_MODEL_8bb3fdee88c64ea9afba53417323a34d"
            ],
            "layout": "IPY_MODEL_0ee04867044b4237b37581b620283630"
          }
        },
        "89b7dbf5bdcf4d37ba3b2f73f057235a": {
          "model_module": "@jupyter-widgets/controls",
          "model_name": "HTMLModel",
          "model_module_version": "1.5.0",
          "state": {
            "_dom_classes": [],
            "_model_module": "@jupyter-widgets/controls",
            "_model_module_version": "1.5.0",
            "_model_name": "HTMLModel",
            "_view_count": null,
            "_view_module": "@jupyter-widgets/controls",
            "_view_module_version": "1.5.0",
            "_view_name": "HTMLView",
            "description": "",
            "description_tooltip": null,
            "layout": "IPY_MODEL_b1f2d5357dd042e7b18bf301c12eaf38",
            "placeholder": "​",
            "style": "IPY_MODEL_30f3d2e7463c4cfda3ba267af75f0c5b",
            "value": "100%"
          }
        },
        "b5f6da086e024da28d280344c2e0fab1": {
          "model_module": "@jupyter-widgets/controls",
          "model_name": "FloatProgressModel",
          "model_module_version": "1.5.0",
          "state": {
            "_dom_classes": [],
            "_model_module": "@jupyter-widgets/controls",
            "_model_module_version": "1.5.0",
            "_model_name": "FloatProgressModel",
            "_view_count": null,
            "_view_module": "@jupyter-widgets/controls",
            "_view_module_version": "1.5.0",
            "_view_name": "ProgressView",
            "bar_style": "success",
            "description": "",
            "description_tooltip": null,
            "layout": "IPY_MODEL_3733874cf2f344c89897eba36fc07441",
            "max": 10001,
            "min": 0,
            "orientation": "horizontal",
            "style": "IPY_MODEL_e73cef0c4c9b4e0d8422b038cefb78bd",
            "value": 10001
          }
        },
        "8bb3fdee88c64ea9afba53417323a34d": {
          "model_module": "@jupyter-widgets/controls",
          "model_name": "HTMLModel",
          "model_module_version": "1.5.0",
          "state": {
            "_dom_classes": [],
            "_model_module": "@jupyter-widgets/controls",
            "_model_module_version": "1.5.0",
            "_model_name": "HTMLModel",
            "_view_count": null,
            "_view_module": "@jupyter-widgets/controls",
            "_view_module_version": "1.5.0",
            "_view_name": "HTMLView",
            "description": "",
            "description_tooltip": null,
            "layout": "IPY_MODEL_88d012381c8640eeaf3800b7e28b4607",
            "placeholder": "​",
            "style": "IPY_MODEL_2ad25e51e7db4c809e962334d6cb3f53",
            "value": " 10001/10001 [03:01&lt;00:00, 96.31it/s]"
          }
        },
        "0ee04867044b4237b37581b620283630": {
          "model_module": "@jupyter-widgets/base",
          "model_name": "LayoutModel",
          "model_module_version": "1.2.0",
          "state": {
            "_model_module": "@jupyter-widgets/base",
            "_model_module_version": "1.2.0",
            "_model_name": "LayoutModel",
            "_view_count": null,
            "_view_module": "@jupyter-widgets/base",
            "_view_module_version": "1.2.0",
            "_view_name": "LayoutView",
            "align_content": null,
            "align_items": null,
            "align_self": null,
            "border": null,
            "bottom": null,
            "display": null,
            "flex": null,
            "flex_flow": null,
            "grid_area": null,
            "grid_auto_columns": null,
            "grid_auto_flow": null,
            "grid_auto_rows": null,
            "grid_column": null,
            "grid_gap": null,
            "grid_row": null,
            "grid_template_areas": null,
            "grid_template_columns": null,
            "grid_template_rows": null,
            "height": null,
            "justify_content": null,
            "justify_items": null,
            "left": null,
            "margin": null,
            "max_height": null,
            "max_width": null,
            "min_height": null,
            "min_width": null,
            "object_fit": null,
            "object_position": null,
            "order": null,
            "overflow": null,
            "overflow_x": null,
            "overflow_y": null,
            "padding": null,
            "right": null,
            "top": null,
            "visibility": null,
            "width": null
          }
        },
        "b1f2d5357dd042e7b18bf301c12eaf38": {
          "model_module": "@jupyter-widgets/base",
          "model_name": "LayoutModel",
          "model_module_version": "1.2.0",
          "state": {
            "_model_module": "@jupyter-widgets/base",
            "_model_module_version": "1.2.0",
            "_model_name": "LayoutModel",
            "_view_count": null,
            "_view_module": "@jupyter-widgets/base",
            "_view_module_version": "1.2.0",
            "_view_name": "LayoutView",
            "align_content": null,
            "align_items": null,
            "align_self": null,
            "border": null,
            "bottom": null,
            "display": null,
            "flex": null,
            "flex_flow": null,
            "grid_area": null,
            "grid_auto_columns": null,
            "grid_auto_flow": null,
            "grid_auto_rows": null,
            "grid_column": null,
            "grid_gap": null,
            "grid_row": null,
            "grid_template_areas": null,
            "grid_template_columns": null,
            "grid_template_rows": null,
            "height": null,
            "justify_content": null,
            "justify_items": null,
            "left": null,
            "margin": null,
            "max_height": null,
            "max_width": null,
            "min_height": null,
            "min_width": null,
            "object_fit": null,
            "object_position": null,
            "order": null,
            "overflow": null,
            "overflow_x": null,
            "overflow_y": null,
            "padding": null,
            "right": null,
            "top": null,
            "visibility": null,
            "width": null
          }
        },
        "30f3d2e7463c4cfda3ba267af75f0c5b": {
          "model_module": "@jupyter-widgets/controls",
          "model_name": "DescriptionStyleModel",
          "model_module_version": "1.5.0",
          "state": {
            "_model_module": "@jupyter-widgets/controls",
            "_model_module_version": "1.5.0",
            "_model_name": "DescriptionStyleModel",
            "_view_count": null,
            "_view_module": "@jupyter-widgets/base",
            "_view_module_version": "1.2.0",
            "_view_name": "StyleView",
            "description_width": ""
          }
        },
        "3733874cf2f344c89897eba36fc07441": {
          "model_module": "@jupyter-widgets/base",
          "model_name": "LayoutModel",
          "model_module_version": "1.2.0",
          "state": {
            "_model_module": "@jupyter-widgets/base",
            "_model_module_version": "1.2.0",
            "_model_name": "LayoutModel",
            "_view_count": null,
            "_view_module": "@jupyter-widgets/base",
            "_view_module_version": "1.2.0",
            "_view_name": "LayoutView",
            "align_content": null,
            "align_items": null,
            "align_self": null,
            "border": null,
            "bottom": null,
            "display": null,
            "flex": null,
            "flex_flow": null,
            "grid_area": null,
            "grid_auto_columns": null,
            "grid_auto_flow": null,
            "grid_auto_rows": null,
            "grid_column": null,
            "grid_gap": null,
            "grid_row": null,
            "grid_template_areas": null,
            "grid_template_columns": null,
            "grid_template_rows": null,
            "height": null,
            "justify_content": null,
            "justify_items": null,
            "left": null,
            "margin": null,
            "max_height": null,
            "max_width": null,
            "min_height": null,
            "min_width": null,
            "object_fit": null,
            "object_position": null,
            "order": null,
            "overflow": null,
            "overflow_x": null,
            "overflow_y": null,
            "padding": null,
            "right": null,
            "top": null,
            "visibility": null,
            "width": null
          }
        },
        "e73cef0c4c9b4e0d8422b038cefb78bd": {
          "model_module": "@jupyter-widgets/controls",
          "model_name": "ProgressStyleModel",
          "model_module_version": "1.5.0",
          "state": {
            "_model_module": "@jupyter-widgets/controls",
            "_model_module_version": "1.5.0",
            "_model_name": "ProgressStyleModel",
            "_view_count": null,
            "_view_module": "@jupyter-widgets/base",
            "_view_module_version": "1.2.0",
            "_view_name": "StyleView",
            "bar_color": null,
            "description_width": ""
          }
        },
        "88d012381c8640eeaf3800b7e28b4607": {
          "model_module": "@jupyter-widgets/base",
          "model_name": "LayoutModel",
          "model_module_version": "1.2.0",
          "state": {
            "_model_module": "@jupyter-widgets/base",
            "_model_module_version": "1.2.0",
            "_model_name": "LayoutModel",
            "_view_count": null,
            "_view_module": "@jupyter-widgets/base",
            "_view_module_version": "1.2.0",
            "_view_name": "LayoutView",
            "align_content": null,
            "align_items": null,
            "align_self": null,
            "border": null,
            "bottom": null,
            "display": null,
            "flex": null,
            "flex_flow": null,
            "grid_area": null,
            "grid_auto_columns": null,
            "grid_auto_flow": null,
            "grid_auto_rows": null,
            "grid_column": null,
            "grid_gap": null,
            "grid_row": null,
            "grid_template_areas": null,
            "grid_template_columns": null,
            "grid_template_rows": null,
            "height": null,
            "justify_content": null,
            "justify_items": null,
            "left": null,
            "margin": null,
            "max_height": null,
            "max_width": null,
            "min_height": null,
            "min_width": null,
            "object_fit": null,
            "object_position": null,
            "order": null,
            "overflow": null,
            "overflow_x": null,
            "overflow_y": null,
            "padding": null,
            "right": null,
            "top": null,
            "visibility": null,
            "width": null
          }
        },
        "2ad25e51e7db4c809e962334d6cb3f53": {
          "model_module": "@jupyter-widgets/controls",
          "model_name": "DescriptionStyleModel",
          "model_module_version": "1.5.0",
          "state": {
            "_model_module": "@jupyter-widgets/controls",
            "_model_module_version": "1.5.0",
            "_model_name": "DescriptionStyleModel",
            "_view_count": null,
            "_view_module": "@jupyter-widgets/base",
            "_view_module_version": "1.2.0",
            "_view_name": "StyleView",
            "description_width": ""
          }
        }
      }
    }
  },
  "cells": [
    {
      "cell_type": "markdown",
      "source": [
        "# How do transformers find the minimum of a list?\n"
      ],
      "metadata": {
        "id": "8mrZfj3Sdd0k"
      }
    },
    {
      "cell_type": "markdown",
      "source": [
        "During the interpretability hackcathon in November 2022, my group and I focussed on trying to understand how a transformer performs the relatively simple task of finding the minimum of a list of integers. We managed to get pretty far with this, but I wasn't entirely satisfied with our final result, so I decided to do some further exploration and tidying up of our results."
      ],
      "metadata": {
        "id": "DWlvZqk2drQh"
      }
    },
    {
      "cell_type": "markdown",
      "source": [
        "In this notebook I will train a super simple transformer to find the minimum of two numbers. I will use Neel Nanda's Transformer Lens library to do this, as well as for the subsequent mechanistic interpretability of the transformer.\n",
        "\n",
        "I will also lay out some further questions I have that I didn't get round to answering, and talk a little about about the significance of the result."
      ],
      "metadata": {
        "id": "V7EBJ53TeuKF"
      }
    },
    {
      "cell_type": "markdown",
      "source": [
        "# Transformer Lens Setup"
      ],
      "metadata": {
        "id": "Cyg1hujmSsN_"
      }
    },
    {
      "cell_type": "markdown",
      "source": [
        "Note to reader: feel free to ignore this section. The only important points are: I am using Neel Nanda's excellent Transformer Lens library, and this notebook is designed to be run on colab!"
      ],
      "metadata": {
        "id": "zyian5hugenI"
      }
    },
    {
      "cell_type": "markdown",
      "source": [
        "Note to Ole: check what stuff here needs to be kept or discarded! Probably loads of bloat."
      ],
      "metadata": {
        "id": "26sa_m2Og9e2"
      }
    },
    {
      "cell_type": "markdown",
      "source": [
        "This setup is copied from Neel's main demo colab notebook for Transformer Lens, which can be found here: https://colab.research.google.com/github/neelnanda-io/TransformerLens/blob/main/Main_Demo.ipynb#scrollTo=V-IJnEFkEBPa"
      ],
      "metadata": {
        "id": "gQAPyZwFTedH"
      }
    },
    {
      "cell_type": "code",
      "execution_count": 1,
      "metadata": {
        "colab": {
          "base_uri": "https://localhost:8080/"
        },
        "id": "QE0kPpLgSoYS",
        "outputId": "c51e7a96-e691-4a10-b85a-e8168f50ed58"
      },
      "outputs": [
        {
          "output_type": "stream",
          "name": "stdout",
          "text": [
            "Running as a Colab notebook\n",
            "Looking in indexes: https://pypi.org/simple, https://us-python.pkg.dev/colab-wheels/public/simple/\n",
            "Collecting git+https://github.com/neelnanda-io/TransformerLens.git\n",
            "  Cloning https://github.com/neelnanda-io/TransformerLens.git to /tmp/pip-req-build-yvc3eihl\n",
            "  Running command git clone --filter=blob:none --quiet https://github.com/neelnanda-io/TransformerLens.git /tmp/pip-req-build-yvc3eihl\n",
            "  Resolved https://github.com/neelnanda-io/TransformerLens.git to commit 006599b30fd6950b3b07c54eabbdaa7c36939595\n",
            "  Installing build dependencies ... \u001b[?25l\u001b[?25hdone\n",
            "  Getting requirements to build wheel ... \u001b[?25l\u001b[?25hdone\n",
            "  Preparing metadata (pyproject.toml) ... \u001b[?25l\u001b[?25hdone\n",
            "Collecting rich<13.0.0,>=12.6.0\n",
            "  Downloading rich-12.6.0-py3-none-any.whl (237 kB)\n",
            "\u001b[2K     \u001b[90m━━━━━━━━━━━━━━━━━━━━━━━━━━━━━━━━━━━━━━━\u001b[0m \u001b[32m237.5/237.5 KB\u001b[0m \u001b[31m6.2 MB/s\u001b[0m eta \u001b[36m0:00:00\u001b[0m\n",
            "\u001b[?25hRequirement already satisfied: torch<2.0,>=1.10 in /usr/local/lib/python3.8/dist-packages (from transformer-lens==0.2.0) (1.13.0+cu116)\n",
            "Collecting transformers<5.0.0,>=4.25.1\n",
            "  Downloading transformers-4.25.1-py3-none-any.whl (5.8 MB)\n",
            "\u001b[2K     \u001b[90m━━━━━━━━━━━━━━━━━━━━━━━━━━━━━━━━━━━━━━━━\u001b[0m \u001b[32m5.8/5.8 MB\u001b[0m \u001b[31m51.9 MB/s\u001b[0m eta \u001b[36m0:00:00\u001b[0m\n",
            "\u001b[?25hRequirement already satisfied: pandas<2.0.0,>=1.1.5 in /usr/local/lib/python3.8/dist-packages (from transformer-lens==0.2.0) (1.3.5)\n",
            "Collecting torchtyping<0.2.0,>=0.1.4\n",
            "  Downloading torchtyping-0.1.4-py3-none-any.whl (17 kB)\n",
            "Collecting fancy-einsum<0.0.4,>=0.0.3\n",
            "  Downloading fancy_einsum-0.0.3-py3-none-any.whl (6.2 kB)\n",
            "Requirement already satisfied: numpy<2.0,>=1.21 in /usr/local/lib/python3.8/dist-packages (from transformer-lens==0.2.0) (1.21.6)\n",
            "Collecting wandb<0.14.0,>=0.13.5\n",
            "  Downloading wandb-0.13.7-py2.py3-none-any.whl (1.9 MB)\n",
            "\u001b[2K     \u001b[90m━━━━━━━━━━━━━━━━━━━━━━━━━━━━━━━━━━━━━━━━\u001b[0m \u001b[32m1.9/1.9 MB\u001b[0m \u001b[31m87.0 MB/s\u001b[0m eta \u001b[36m0:00:00\u001b[0m\n",
            "\u001b[?25hCollecting datasets<3.0.0,>=2.7.1\n",
            "  Downloading datasets-2.8.0-py3-none-any.whl (452 kB)\n",
            "\u001b[2K     \u001b[90m━━━━━━━━━━━━━━━━━━━━━━━━━━━━━━━━━━━━━━\u001b[0m \u001b[32m452.9/452.9 KB\u001b[0m \u001b[31m33.3 MB/s\u001b[0m eta \u001b[36m0:00:00\u001b[0m\n",
            "\u001b[?25hCollecting einops<0.7.0,>=0.6.0\n",
            "  Downloading einops-0.6.0-py3-none-any.whl (41 kB)\n",
            "\u001b[2K     \u001b[90m━━━━━━━━━━━━━━━━━━━━━━━━━━━━━━━━━━━━━━━━\u001b[0m \u001b[32m41.6/41.6 KB\u001b[0m \u001b[31m4.6 MB/s\u001b[0m eta \u001b[36m0:00:00\u001b[0m\n",
            "\u001b[?25hRequirement already satisfied: tqdm<5.0.0,>=4.64.1 in /usr/local/lib/python3.8/dist-packages (from transformer-lens==0.2.0) (4.64.1)\n",
            "Requirement already satisfied: fsspec[http]>=2021.11.1 in /usr/local/lib/python3.8/dist-packages (from datasets<3.0.0,>=2.7.1->transformer-lens==0.2.0) (2022.11.0)\n",
            "Requirement already satisfied: requests>=2.19.0 in /usr/local/lib/python3.8/dist-packages (from datasets<3.0.0,>=2.7.1->transformer-lens==0.2.0) (2.25.1)\n",
            "Collecting huggingface-hub<1.0.0,>=0.2.0\n",
            "  Downloading huggingface_hub-0.11.1-py3-none-any.whl (182 kB)\n",
            "\u001b[2K     \u001b[90m━━━━━━━━━━━━━━━━━━━━━━━━━━━━━━━━━━━━━━\u001b[0m \u001b[32m182.4/182.4 KB\u001b[0m \u001b[31m22.3 MB/s\u001b[0m eta \u001b[36m0:00:00\u001b[0m\n",
            "\u001b[?25hCollecting xxhash\n",
            "  Downloading xxhash-3.2.0-cp38-cp38-manylinux_2_17_x86_64.manylinux2014_x86_64.whl (213 kB)\n",
            "\u001b[2K     \u001b[90m━━━━━━━━━━━━━━━━━━━━━━━━━━━━━━━━━━━━━━\u001b[0m \u001b[32m213.0/213.0 KB\u001b[0m \u001b[31m23.6 MB/s\u001b[0m eta \u001b[36m0:00:00\u001b[0m\n",
            "\u001b[?25hCollecting responses<0.19\n",
            "  Downloading responses-0.18.0-py3-none-any.whl (38 kB)\n",
            "Requirement already satisfied: pyarrow>=6.0.0 in /usr/local/lib/python3.8/dist-packages (from datasets<3.0.0,>=2.7.1->transformer-lens==0.2.0) (9.0.0)\n",
            "Collecting multiprocess\n",
            "  Downloading multiprocess-0.70.14-py38-none-any.whl (132 kB)\n",
            "\u001b[2K     \u001b[90m━━━━━━━━━━━━━━━━━━━━━━━━━━━━━━━━━━━━━━\u001b[0m \u001b[32m132.0/132.0 KB\u001b[0m \u001b[31m17.5 MB/s\u001b[0m eta \u001b[36m0:00:00\u001b[0m\n",
            "\u001b[?25hRequirement already satisfied: pyyaml>=5.1 in /usr/local/lib/python3.8/dist-packages (from datasets<3.0.0,>=2.7.1->transformer-lens==0.2.0) (6.0)\n",
            "Requirement already satisfied: aiohttp in /usr/local/lib/python3.8/dist-packages (from datasets<3.0.0,>=2.7.1->transformer-lens==0.2.0) (3.8.3)\n",
            "Requirement already satisfied: dill<0.3.7 in /usr/local/lib/python3.8/dist-packages (from datasets<3.0.0,>=2.7.1->transformer-lens==0.2.0) (0.3.6)\n",
            "Requirement already satisfied: packaging in /usr/local/lib/python3.8/dist-packages (from datasets<3.0.0,>=2.7.1->transformer-lens==0.2.0) (21.3)\n",
            "Requirement already satisfied: pytz>=2017.3 in /usr/local/lib/python3.8/dist-packages (from pandas<2.0.0,>=1.1.5->transformer-lens==0.2.0) (2022.7)\n",
            "Requirement already satisfied: python-dateutil>=2.7.3 in /usr/local/lib/python3.8/dist-packages (from pandas<2.0.0,>=1.1.5->transformer-lens==0.2.0) (2.8.2)\n",
            "Requirement already satisfied: pygments<3.0.0,>=2.6.0 in /usr/local/lib/python3.8/dist-packages (from rich<13.0.0,>=12.6.0->transformer-lens==0.2.0) (2.6.1)\n",
            "Collecting commonmark<0.10.0,>=0.9.0\n",
            "  Downloading commonmark-0.9.1-py2.py3-none-any.whl (51 kB)\n",
            "\u001b[2K     \u001b[90m━━━━━━━━━━━━━━━━━━━━━━━━━━━━━━━━━━━━━━━━\u001b[0m \u001b[32m51.1/51.1 KB\u001b[0m \u001b[31m7.0 MB/s\u001b[0m eta \u001b[36m0:00:00\u001b[0m\n",
            "\u001b[?25hRequirement already satisfied: typing-extensions<5.0,>=4.0.0 in /usr/local/lib/python3.8/dist-packages (from rich<13.0.0,>=12.6.0->transformer-lens==0.2.0) (4.4.0)\n",
            "Collecting typeguard>=2.11.1\n",
            "  Downloading typeguard-2.13.3-py3-none-any.whl (17 kB)\n",
            "Requirement already satisfied: filelock in /usr/local/lib/python3.8/dist-packages (from transformers<5.0.0,>=4.25.1->transformer-lens==0.2.0) (3.8.2)\n",
            "Collecting tokenizers!=0.11.3,<0.14,>=0.11.1\n",
            "  Downloading tokenizers-0.13.2-cp38-cp38-manylinux_2_17_x86_64.manylinux2014_x86_64.whl (7.6 MB)\n",
            "\u001b[2K     \u001b[90m━━━━━━━━━━━━━━━━━━━━━━━━━━━━━━━━━━━━━━━━\u001b[0m \u001b[32m7.6/7.6 MB\u001b[0m \u001b[31m91.7 MB/s\u001b[0m eta \u001b[36m0:00:00\u001b[0m\n",
            "\u001b[?25hRequirement already satisfied: regex!=2019.12.17 in /usr/local/lib/python3.8/dist-packages (from transformers<5.0.0,>=4.25.1->transformer-lens==0.2.0) (2022.6.2)\n",
            "Requirement already satisfied: psutil>=5.0.0 in /usr/local/lib/python3.8/dist-packages (from wandb<0.14.0,>=0.13.5->transformer-lens==0.2.0) (5.4.8)\n",
            "Collecting docker-pycreds>=0.4.0\n",
            "  Downloading docker_pycreds-0.4.0-py2.py3-none-any.whl (9.0 kB)\n",
            "Collecting sentry-sdk>=1.0.0\n",
            "  Downloading sentry_sdk-1.12.1-py2.py3-none-any.whl (174 kB)\n",
            "\u001b[2K     \u001b[90m━━━━━━━━━━━━━━━━━━━━━━━━━━━━━━━━━━━━━━\u001b[0m \u001b[32m174.3/174.3 KB\u001b[0m \u001b[31m18.2 MB/s\u001b[0m eta \u001b[36m0:00:00\u001b[0m\n",
            "\u001b[?25hCollecting pathtools\n",
            "  Downloading pathtools-0.1.2.tar.gz (11 kB)\n",
            "  Preparing metadata (setup.py) ... \u001b[?25l\u001b[?25hdone\n",
            "Collecting GitPython>=1.0.0\n",
            "  Downloading GitPython-3.1.30-py3-none-any.whl (184 kB)\n",
            "\u001b[2K     \u001b[90m━━━━━━━━━━━━━━━━━━━━━━━━━━━━━━━━━━━━━━\u001b[0m \u001b[32m184.0/184.0 KB\u001b[0m \u001b[31m19.1 MB/s\u001b[0m eta \u001b[36m0:00:00\u001b[0m\n",
            "\u001b[?25hCollecting shortuuid>=0.5.0\n",
            "  Downloading shortuuid-1.0.11-py3-none-any.whl (10 kB)\n",
            "Requirement already satisfied: protobuf!=4.21.0,<5,>=3.12.0 in /usr/local/lib/python3.8/dist-packages (from wandb<0.14.0,>=0.13.5->transformer-lens==0.2.0) (3.19.6)\n",
            "Requirement already satisfied: promise<3,>=2.0 in /usr/local/lib/python3.8/dist-packages (from wandb<0.14.0,>=0.13.5->transformer-lens==0.2.0) (2.3)\n",
            "Requirement already satisfied: setuptools in /usr/local/lib/python3.8/dist-packages (from wandb<0.14.0,>=0.13.5->transformer-lens==0.2.0) (57.4.0)\n",
            "Requirement already satisfied: Click!=8.0.0,>=7.0 in /usr/local/lib/python3.8/dist-packages (from wandb<0.14.0,>=0.13.5->transformer-lens==0.2.0) (7.1.2)\n",
            "Collecting setproctitle\n",
            "  Downloading setproctitle-1.3.2-cp38-cp38-manylinux_2_5_x86_64.manylinux1_x86_64.manylinux_2_17_x86_64.manylinux2014_x86_64.whl (31 kB)\n",
            "Requirement already satisfied: six>=1.4.0 in /usr/local/lib/python3.8/dist-packages (from docker-pycreds>=0.4.0->wandb<0.14.0,>=0.13.5->transformer-lens==0.2.0) (1.15.0)\n",
            "Requirement already satisfied: aiosignal>=1.1.2 in /usr/local/lib/python3.8/dist-packages (from aiohttp->datasets<3.0.0,>=2.7.1->transformer-lens==0.2.0) (1.3.1)\n",
            "Requirement already satisfied: async-timeout<5.0,>=4.0.0a3 in /usr/local/lib/python3.8/dist-packages (from aiohttp->datasets<3.0.0,>=2.7.1->transformer-lens==0.2.0) (4.0.2)\n",
            "Requirement already satisfied: attrs>=17.3.0 in /usr/local/lib/python3.8/dist-packages (from aiohttp->datasets<3.0.0,>=2.7.1->transformer-lens==0.2.0) (22.2.0)\n",
            "Requirement already satisfied: frozenlist>=1.1.1 in /usr/local/lib/python3.8/dist-packages (from aiohttp->datasets<3.0.0,>=2.7.1->transformer-lens==0.2.0) (1.3.3)\n",
            "Requirement already satisfied: yarl<2.0,>=1.0 in /usr/local/lib/python3.8/dist-packages (from aiohttp->datasets<3.0.0,>=2.7.1->transformer-lens==0.2.0) (1.8.2)\n",
            "Requirement already satisfied: multidict<7.0,>=4.5 in /usr/local/lib/python3.8/dist-packages (from aiohttp->datasets<3.0.0,>=2.7.1->transformer-lens==0.2.0) (6.0.3)\n",
            "Requirement already satisfied: charset-normalizer<3.0,>=2.0 in /usr/local/lib/python3.8/dist-packages (from aiohttp->datasets<3.0.0,>=2.7.1->transformer-lens==0.2.0) (2.1.1)\n",
            "Collecting gitdb<5,>=4.0.1\n",
            "  Downloading gitdb-4.0.10-py3-none-any.whl (62 kB)\n",
            "\u001b[2K     \u001b[90m━━━━━━━━━━━━━━━━━━━━━━━━━━━━━━━━━━━━━━━━\u001b[0m \u001b[32m62.7/62.7 KB\u001b[0m \u001b[31m6.9 MB/s\u001b[0m eta \u001b[36m0:00:00\u001b[0m\n",
            "\u001b[?25hRequirement already satisfied: pyparsing!=3.0.5,>=2.0.2 in /usr/local/lib/python3.8/dist-packages (from packaging->datasets<3.0.0,>=2.7.1->transformer-lens==0.2.0) (3.0.9)\n",
            "Requirement already satisfied: chardet<5,>=3.0.2 in /usr/local/lib/python3.8/dist-packages (from requests>=2.19.0->datasets<3.0.0,>=2.7.1->transformer-lens==0.2.0) (4.0.0)\n",
            "Requirement already satisfied: certifi>=2017.4.17 in /usr/local/lib/python3.8/dist-packages (from requests>=2.19.0->datasets<3.0.0,>=2.7.1->transformer-lens==0.2.0) (2022.12.7)\n",
            "Requirement already satisfied: urllib3<1.27,>=1.21.1 in /usr/local/lib/python3.8/dist-packages (from requests>=2.19.0->datasets<3.0.0,>=2.7.1->transformer-lens==0.2.0) (1.24.3)\n",
            "Requirement already satisfied: idna<3,>=2.5 in /usr/local/lib/python3.8/dist-packages (from requests>=2.19.0->datasets<3.0.0,>=2.7.1->transformer-lens==0.2.0) (2.10)\n",
            "Collecting urllib3<1.27,>=1.21.1\n",
            "  Downloading urllib3-1.26.13-py2.py3-none-any.whl (140 kB)\n",
            "\u001b[2K     \u001b[90m━━━━━━━━━━━━━━━━━━━━━━━━━━━━━━━━━━━━━━━\u001b[0m \u001b[32m140.6/140.6 KB\u001b[0m \u001b[31m9.7 MB/s\u001b[0m eta \u001b[36m0:00:00\u001b[0m\n",
            "\u001b[?25hCollecting smmap<6,>=3.0.1\n",
            "  Downloading smmap-5.0.0-py3-none-any.whl (24 kB)\n",
            "Building wheels for collected packages: transformer-lens, pathtools\n",
            "  Building wheel for transformer-lens (pyproject.toml) ... \u001b[?25l\u001b[?25hdone\n",
            "  Created wheel for transformer-lens: filename=transformer_lens-0.2.0-py3-none-any.whl size=72825 sha256=38ee5a5e74e20a87ea81f5ac66af8ecf1f48c2861143673dbf6cb4e7a2f3449e\n",
            "  Stored in directory: /tmp/pip-ephem-wheel-cache-_hyxs4xu/wheels/01/23/66/f2a24535cfdba20041b84e836ac5101ad100980ff9c12f410a\n",
            "  Building wheel for pathtools (setup.py) ... \u001b[?25l\u001b[?25hdone\n",
            "  Created wheel for pathtools: filename=pathtools-0.1.2-py3-none-any.whl size=8806 sha256=7d4dbafb41d06f40e3866b8eac031afee27ccc356fc66581ef599ec65a3a9df5\n",
            "  Stored in directory: /root/.cache/pip/wheels/4c/8e/7e/72fbc243e1aeecae64a96875432e70d4e92f3d2d18123be004\n",
            "Successfully built transformer-lens pathtools\n",
            "Installing collected packages: tokenizers, pathtools, commonmark, xxhash, urllib3, typeguard, smmap, shortuuid, setproctitle, rich, multiprocess, fancy-einsum, einops, docker-pycreds, torchtyping, sentry-sdk, gitdb, responses, huggingface-hub, GitPython, wandb, transformers, datasets, transformer-lens\n",
            "  Attempting uninstall: urllib3\n",
            "    Found existing installation: urllib3 1.24.3\n",
            "    Uninstalling urllib3-1.24.3:\n",
            "      Successfully uninstalled urllib3-1.24.3\n",
            "  Attempting uninstall: typeguard\n",
            "    Found existing installation: typeguard 2.7.1\n",
            "    Uninstalling typeguard-2.7.1:\n",
            "      Successfully uninstalled typeguard-2.7.1\n",
            "Successfully installed GitPython-3.1.30 commonmark-0.9.1 datasets-2.8.0 docker-pycreds-0.4.0 einops-0.6.0 fancy-einsum-0.0.3 gitdb-4.0.10 huggingface-hub-0.11.1 multiprocess-0.70.14 pathtools-0.1.2 responses-0.18.0 rich-12.6.0 sentry-sdk-1.12.1 setproctitle-1.3.2 shortuuid-1.0.11 smmap-5.0.0 tokenizers-0.13.2 torchtyping-0.1.4 transformer-lens-0.2.0 transformers-4.25.1 typeguard-2.13.3 urllib3-1.26.13 wandb-0.13.7 xxhash-3.2.0\n",
            "Looking in indexes: https://pypi.org/simple, https://us-python.pkg.dev/colab-wheels/public/simple/\n",
            "Collecting circuitsvis\n",
            "  Downloading circuitsvis-1.37.0-py3-none-any.whl (1.8 MB)\n",
            "\u001b[2K     \u001b[90m━━━━━━━━━━━━━━━━━━━━━━━━━━━━━━━━━━━━━━━━\u001b[0m \u001b[32m1.8/1.8 MB\u001b[0m \u001b[31m22.6 MB/s\u001b[0m eta \u001b[36m0:00:00\u001b[0m\n",
            "\u001b[?25hRequirement already satisfied: torch<2.0,>=1.10 in /usr/local/lib/python3.8/dist-packages (from circuitsvis) (1.13.0+cu116)\n",
            "Requirement already satisfied: numpy<2.0,>=1.21 in /usr/local/lib/python3.8/dist-packages (from circuitsvis) (1.21.6)\n",
            "Requirement already satisfied: importlib-metadata<6.0.0,>=5.1.0 in /usr/local/lib/python3.8/dist-packages (from circuitsvis) (5.2.0)\n",
            "Requirement already satisfied: zipp>=0.5 in /usr/local/lib/python3.8/dist-packages (from importlib-metadata<6.0.0,>=5.1.0->circuitsvis) (3.11.0)\n",
            "Requirement already satisfied: typing-extensions in /usr/local/lib/python3.8/dist-packages (from torch<2.0,>=1.10->circuitsvis) (4.4.0)\n",
            "Installing collected packages: circuitsvis\n",
            "Successfully installed circuitsvis-1.37.0\n"
          ]
        }
      ],
      "source": [
        "import google.colab\n",
        "IN_COLAB = True\n",
        "print(\"Running as a Colab notebook\")\n",
        "%pip install git+https://github.com/neelnanda-io/TransformerLens.git\n",
        "%pip install circuitsvis\n",
        "\n",
        "# PySvelte is an unmaintained visualization library, use it as a backup if circuitsvis isn't working\n",
        "# # Install another version of node that makes PySvelte work way faster\n",
        "# !curl -fsSL https://deb.nodesource.com/setup_16.x | sudo -E bash -; sudo apt-get install -y nodejs\n",
        "# %pip install git+https://github.com/neelnanda-io/PySvelte.git"
      ]
    },
    {
      "cell_type": "code",
      "source": [
        "# Plotly needs a different renderer for VSCode/Notebooks vs Colab argh\n",
        "import plotly.io as pio\n",
        "if IN_COLAB or not DEVELOPMENT_MODE:\n",
        "    pio.renderers.default = \"colab\"\n",
        "else:\n",
        "    pio.renderers.default = \"notebook_connected\"\n",
        "print(f\"Using renderer: {pio.renderers.default}\")"
      ],
      "metadata": {
        "colab": {
          "base_uri": "https://localhost:8080/"
        },
        "id": "gYz6nQxGTVqK",
        "outputId": "2abee755-5ab1-4bbc-e307-67f53f087682"
      },
      "execution_count": 2,
      "outputs": [
        {
          "output_type": "stream",
          "name": "stdout",
          "text": [
            "Using renderer: colab\n"
          ]
        }
      ]
    },
    {
      "cell_type": "code",
      "source": [
        "# Import stuff\n",
        "import torch\n",
        "import torch.nn as nn\n",
        "import torch.nn.functional as F\n",
        "import torch.optim as optim\n",
        "import numpy as np\n",
        "import einops\n",
        "from fancy_einsum import einsum\n",
        "import tqdm.auto as tqdm\n",
        "import random\n",
        "from pathlib import Path\n",
        "import plotly.express as px\n",
        "from torch.utils.data import DataLoader\n",
        "\n",
        "from torchtyping import TensorType as TT\n",
        "from typing import List, Union, Optional\n",
        "from functools import partial\n",
        "import copy\n",
        "\n",
        "import itertools\n",
        "from transformers import AutoModelForCausalLM, AutoConfig, AutoTokenizer\n",
        "import dataclasses\n",
        "import datasets\n",
        "from IPython.display import HTML"
      ],
      "metadata": {
        "id": "EQCFCA9oTYx0"
      },
      "execution_count": 3,
      "outputs": []
    },
    {
      "cell_type": "code",
      "source": [
        "%matplotlib inline\n",
        "import time\n",
        "import pylab as pl\n",
        "import matplotlib.pyplot as plt\n",
        "from IPython import display"
      ],
      "metadata": {
        "id": "FtkbozUL6VSH"
      },
      "execution_count": 4,
      "outputs": []
    },
    {
      "cell_type": "code",
      "source": [
        "import transformer_lens\n",
        "import transformer_lens.utils as utils\n",
        "from transformer_lens.hook_points import (\n",
        "    HookedRootModule,\n",
        "    HookPoint,\n",
        ")  # Hooking utilities\n",
        "from transformer_lens import HookedTransformer, HookedTransformerConfig, FactoredMatrix, ActivationCache"
      ],
      "metadata": {
        "id": "51h3PflcUJqY"
      },
      "execution_count": 5,
      "outputs": []
    },
    {
      "cell_type": "code",
      "source": [
        "def imshow(tensor, renderer=None, xaxis=\"\", yaxis=\"\", **kwargs):\n",
        "    px.imshow(utils.to_numpy(tensor), color_continuous_midpoint=0.0, color_continuous_scale=\"RdBu\", labels={\"x\":xaxis, \"y\":yaxis}, **kwargs).show(renderer)\n",
        "\n",
        "def line(tensor, renderer=None, xaxis=\"\", yaxis=\"\", **kwargs):\n",
        "    px.line(utils.to_numpy(tensor), labels={\"x\":xaxis, \"y\":yaxis}, **kwargs).show(renderer)\n",
        "\n",
        "def scatter(x, y, xaxis=\"\", yaxis=\"\", caxis=\"\", renderer=None, **kwargs):\n",
        "    x = utils.to_numpy(x)\n",
        "    y = utils.to_numpy(y)\n",
        "    px.scatter(y=y, x=x, labels={\"x\":xaxis, \"y\":yaxis, \"color\":caxis}, **kwargs).show(renderer)"
      ],
      "metadata": {
        "id": "CVIz1ooNUFy5"
      },
      "execution_count": 6,
      "outputs": []
    },
    {
      "cell_type": "code",
      "source": [
        "device = \"cuda\" if torch.cuda.is_available() else \"cpu\""
      ],
      "metadata": {
        "id": "NIuIY0mEURJ6"
      },
      "execution_count": 7,
      "outputs": []
    },
    {
      "cell_type": "code",
      "source": [
        "import os\n",
        "try:\n",
        "  mkdir(Path('/content/'))\n",
        "except:\n",
        "  pass\n",
        "root = Path('/content/a')\n",
        "try:\n",
        "  os.mkdir(root)\n",
        "except:\n",
        "  pass\n",
        "large_root = Path('/content/b')\n",
        "try:\n",
        "  os.mkdir(large_root)\n",
        "except:\n",
        "  pass"
      ],
      "metadata": {
        "id": "HbhjeVgo-mua"
      },
      "execution_count": 8,
      "outputs": []
    },
    {
      "cell_type": "markdown",
      "source": [
        "# Wrapper for training a transformer \n",
        "\n",
        "Summary: this is a function which trains a transformer model on some algorithmic task. In principle this should be able to be used to train transformers on general algotihmic tasks, for any given set of data, function, and desired configuration for a transformer. In practise, I have only used it for a few simple tasks like this!\n",
        "\n",
        "The hyperparameters of the optimizer / the scheduler are hard-coded, and copied from those used by Neel in his grokking paper. I'd be lying if I said I'd tried to properly understand all of them, but I think the most important one is setting weight decay all the way to 1.0 (heavy regularisation gives a big incentive to the network to learn the simplest model it can, which helps prevent overfitting).\n",
        "\n",
        "Asides: I tried to make this a class, but got very bad memory leaks. It would be nice to modularise this more nicely, but it works for my purposes!\n",
        "\n",
        "I also tried to make it a bit nicer using decorators to wrap the train model function, but this ended up being more hastle than it was worth."
      ],
      "metadata": {
        "id": "lRXUhaBP5_ym"
      }
    },
    {
      "cell_type": "code",
      "source": [
        "# New code for Neel-style task\n",
        "\n",
        "%matplotlib inline\n",
        "import time\n",
        "import pylab as pl\n",
        "import matplotlib.pyplot as plt\n",
        "from IPython import display\n",
        "\n",
        "\n",
        "def train_model(data, fn, cfg, device='cuda', split=0.7,seed=42,num_epochs=2000):\n",
        "  def cross_entropy_high_precision(logits, labels):\n",
        "      logprobs = F.log_softmax(logits.to(torch.float64), dim=-1)\n",
        "      prediction_logprobs = torch.gather(logprobs, index=labels[:, None], dim=-1)\n",
        "      loss = -torch.mean(prediction_logprobs)\n",
        "      return loss\n",
        "\n",
        "  def full_loss(model, data, labels):\n",
        "      # Take the final position only\n",
        "      logits = model(data)[:, -1]\n",
        "      return cross_entropy_high_precision(logits, labels)\n",
        "\n",
        "  # Do the initial setup\n",
        "  # Create HookedTransformer Model\n",
        "  model = HookedTransformer(cfg).to(device)\n",
        "  optimizer = torch.optim.AdamW(model.parameters(), lr=1e-3, betas=(0.9, 0.98), weight_decay=1.0)\n",
        "  scheduler = optim.lr_scheduler.LambdaLR(optimizer, lambda step: min(step/10, 1))\n",
        "  # Generate train and test split\n",
        "  random.seed(seed)\n",
        "  random.shuffle(data)\n",
        "  div = int(split*len(data))\n",
        "  train, test = torch.tensor(data[:div]).to(device), torch.tensor(data[div:]).to(device)\n",
        "  train_labels = torch.tensor([fn(x) for x in train]).to(device)\n",
        "  test_labels = torch.tensor([fn(x) for x  in test]).to(device)\n",
        "\n",
        "  #Saving the runs\n",
        "  run_name = f\"grok_{int(time.time())}\"\n",
        "  save_every = 1000\n",
        "  try:\n",
        "    os.mkdir(root/run_name)\n",
        "  except:\n",
        "    pass\n",
        "\n",
        "  print(\"device =\", device)\n",
        "\n",
        "  def cross_entropy_high_precision(logits, labels):\n",
        "      logprobs = F.log_softmax(logits.to(torch.float64), dim=-1)\n",
        "      prediction_logprobs = torch.gather(logprobs, index=labels[:, None], dim=-1)\n",
        "      loss = -torch.mean(prediction_logprobs)\n",
        "      return loss\n",
        "\n",
        "\n",
        "  def full_loss(model, data, labels):\n",
        "      # Take the final position only\n",
        "      logits = model(data)[:, -1]\n",
        "      return cross_entropy_high_precision(logits, labels)\n",
        "\n",
        "  train_losses = []\n",
        "  test_losses = []\n",
        "  for epoch in tqdm.tqdm(range(num_epochs + 1)):\n",
        "      train_loss = full_loss(model, train, train_labels)\n",
        "      test_loss = full_loss(model, test, test_labels)\n",
        "      train_losses.append(train_loss.item())\n",
        "      test_losses.append(test_loss.item())\n",
        "\n",
        "      train_loss.backward()\n",
        "      optimizer.step()\n",
        "      scheduler.step()\n",
        "      optimizer.zero_grad()\n",
        "      torch.cuda.empty_cache()\n",
        "        \n",
        "      if epoch%save_every == 0:\n",
        "          save_dict = {\n",
        "                  'model': model.state_dict(),\n",
        "                  'optimizer': optimizer.state_dict(),\n",
        "                  'scheduler': scheduler.state_dict(),\n",
        "                  'train_loss': train_loss,\n",
        "                  'test_loss': test_loss,\n",
        "                  'epoch': epoch,\n",
        "          }\n",
        "          torch.save(save_dict, root/run_name/f\"{epoch}.pth\")\n",
        "          print(f\"Saved model to {root/run_name/f'{epoch}.pth'}\")\n",
        "      \n",
        "      if epoch % 100 == 0:\n",
        "        plt.semilogy(list([l for l in train_losses]), color=\"blue\")\n",
        "        plt.semilogy(list([l for l in test_losses]), color=\"red\")\n",
        "        display.clear_output(wait=True)\n",
        "        display.display(pl.gcf())\n",
        "        time.sleep(0.01)\n",
        "\n",
        "      if epoch % 100 == 0:\n",
        "        print(f\"Epoch: {epoch}. Loss: {train_loss}\")\n",
        "  \n",
        "  return model"
      ],
      "metadata": {
        "id": "5LawrPULZV40"
      },
      "execution_count": 9,
      "outputs": []
    },
    {
      "cell_type": "code",
      "source": [],
      "metadata": {
        "id": "nksZT6uglETq"
      },
      "execution_count": 9,
      "outputs": []
    },
    {
      "cell_type": "markdown",
      "source": [
        "# Some Interpretability Tools\n",
        "\n",
        "When trying to understand the low level behaviour of a model, it's useful to have some tools off the shelf to help with this. \n",
        "\n",
        "The underlying information for our models is made accessible via the Transformer Lens library. The code for the OV copying score functions also came from Neel's Transformer Lens Demo, and the idea behind these was explained in Anthropic's \"A mathematical Framework for Transformer Circuits\"."
      ],
      "metadata": {
        "id": "9PB6aiQPa_d-"
      }
    },
    {
      "cell_type": "code",
      "source": [
        "import circuitsvis as cv\n",
        "\n",
        "def plot_logits(model, input):\n",
        "  input = torch.tensor(input)\n",
        "  logits, cache = model.run_with_cache(input, remove_batch_dim = True)\n",
        "  fig, ax = plt.subplots(figsize=(40,4))\n",
        "  ax.plot(logits[0][-1].cpu().detach().numpy())\n",
        "  plt.show()\n",
        "\n",
        "def generate_attn_pattern(model, input):\n",
        "  input = torch.tensor(input)\n",
        "  logits, cache = model.run_with_cache(input, remove_batch_dim = True)\n",
        "  attn_pattern = cache[\"pattern\", 0, \"attn\"]\n",
        "  return cv.attention.attention_patterns(tokens = [str(t) for t in list(input.detach().cpu().numpy())], attention = attn_pattern)\n",
        "\n",
        "def OV_copying_score(model):\n",
        "  OV_circuit_all_heads = model.OV\n",
        "  OV_circuit_all_heads_eigenvalues = OV_circuit_all_heads.eigenvalues \n",
        "  OV_copying_score2 = OV_circuit_all_heads_eigenvalues.sum(dim=-1).real / OV_circuit_all_heads_eigenvalues.abs().sum(dim=-1)\n",
        "  return OV_copying_score2\n",
        "\n",
        "def OV_full_copying_score(model):\n",
        "  OV_circuit_all_heads = model.OV\n",
        "  full_OV_circuit = model.embed.W_E @ OV_circuit_all_heads @ model.unembed.W_U\n",
        "  full_OV_circuit_eigenvalues = full_OV_circuit.eigenvalues\n",
        "  full_OV_copying_score = full_OV_circuit_eigenvalues.sum(dim=-1).real / full_OV_circuit_eigenvalues.abs().sum(dim=-1)\n",
        "  return full_OV_copying_score\n",
        "\n",
        "# Seeing what happens if we simply embed and then unembed\n",
        "def embed_unembed_copying_score(model):\n",
        "  nothing = FactoredMatrix(model.embed.W_E, model.unembed.W_U)\n",
        "  nothing_eigenvalues = nothing.eigenvalues\n",
        "  nothing_score = nothing_eigenvalues.sum(dim=-1).real / nothing_eigenvalues.abs().sum(dim=-1)\n",
        "  return nothing_score\n"
      ],
      "metadata": {
        "id": "rOSmuQx--qFi"
      },
      "execution_count": 10,
      "outputs": []
    },
    {
      "cell_type": "markdown",
      "source": [],
      "metadata": {
        "id": "d0ju84qboCIW"
      }
    },
    {
      "cell_type": "markdown",
      "source": [
        "# Training our Model\n"
      ],
      "metadata": {
        "id": "hDxidUPsvKbc"
      }
    },
    {
      "cell_type": "markdown",
      "source": [
        "Here is the configuration of the transformer we will train to find the minimum of two numbers, which range from 0 - 99.\n",
        "\n",
        "Some important aspects to note about the configuration. Note that generally, I have made the configuration as simple as possible, in order to aid in interpreting it.\n",
        "1. The dimension space of the model is actually bigger than the range of numbers that can be input to the transformer. (d_model > d_vocab)\n",
        "2. I am using a single attention layer, and a single attention head within this layer. (n_layers and n_heads)\n",
        "3. I am not applying Layer normalisation.\n",
        "4. I am not using the MLP layer.\n",
        "\n",
        "Note that by default, some form of positional embedding is occurring (I'm unsure how to turn this off, try to figure out to do this if possible!)"
      ],
      "metadata": {
        "id": "nQZqkuwaovpu"
      }
    },
    {
      "cell_type": "code",
      "source": [
        "p = 100\n",
        "d_vocab = p+1\n",
        "n_ctx = 2\n",
        "\n",
        "tiny_cfg2 = HookedTransformerConfig(\n",
        "    d_model=128,\n",
        "    d_head=128//1,\n",
        "    n_heads=1,\n",
        "    attn_only=True,\n",
        "    n_layers=1,\n",
        "    n_ctx=n_ctx,\n",
        "    act_fn=\"relu\", #solu_ln\n",
        "    d_vocab=d_vocab,\n",
        "    normalization_type=None, #\"LN\",\n",
        "    seed=23,  # Check this seed is actually used somewhere lmao\n",
        ")\n"
      ],
      "metadata": {
        "id": "08_39-Bwvf7d"
      },
      "execution_count": 11,
      "outputs": []
    },
    {
      "cell_type": "markdown",
      "source": [
        "Every pair of numbers from 0-99 is being used for either training or validation. Importantly, there is no cross-over between the training and validation datasets.\n",
        "(I think that) the entire training set is used in a single epoch of training, and the entire validation set is used each time the model is validated. "
      ],
      "metadata": {
        "id": "nBgWmjA5sZ7k"
      }
    },
    {
      "cell_type": "code",
      "source": [
        "data = [(i, j) for i in range(p) for j in range(p)]\n",
        "\n",
        "fn = lambda x:min(x)\n",
        "\n",
        "small_model = train_model(data, fn, tiny_cfg2, num_epochs=10000)"
      ],
      "metadata": {
        "colab": {
          "base_uri": "https://localhost:8080/",
          "height": 530,
          "referenced_widgets": [
            "1e7febcebfa0418aa11834ea59877c68",
            "89b7dbf5bdcf4d37ba3b2f73f057235a",
            "b5f6da086e024da28d280344c2e0fab1",
            "8bb3fdee88c64ea9afba53417323a34d",
            "0ee04867044b4237b37581b620283630",
            "b1f2d5357dd042e7b18bf301c12eaf38",
            "30f3d2e7463c4cfda3ba267af75f0c5b",
            "3733874cf2f344c89897eba36fc07441",
            "e73cef0c4c9b4e0d8422b038cefb78bd",
            "88d012381c8640eeaf3800b7e28b4607",
            "2ad25e51e7db4c809e962334d6cb3f53"
          ]
        },
        "id": "oaVcFlLaot7e",
        "outputId": "7d9a61ac-cdf7-42eb-c1e2-11dcddcda6f7"
      },
      "execution_count": 12,
      "outputs": [
        {
          "output_type": "display_data",
          "data": {
            "text/plain": [
              "<Figure size 432x288 with 1 Axes>"
            ],
            "image/png": "[encoded data removed]"
          },
          "metadata": {}
        },
        {
          "output_type": "stream",
          "name": "stdout",
          "text": [
            "Epoch: 10000. Loss: 1.4813286745722305e-07\n"
          ]
        },
        {
          "output_type": "display_data",
          "data": {
            "text/plain": [
              "<Figure size 432x288 with 1 Axes>"
            ],
            "image/png": "[encoded data removed]"
          },
          "metadata": {
            "needs_background": "light"
          }
        }
      ]
    },
    {
      "cell_type": "markdown",
      "source": [
        "Let's get the accuracy of the final model:"
      ],
      "metadata": {
        "id": "t1z4Ovp3y7a0"
      }
    },
    {
      "cell_type": "code",
      "source": [
        "correct = 0\n",
        "false = 0\n",
        "for point in data:\n",
        "  if int(torch.argmax(small_model(torch.tensor(point))[0][-1])) == min(point):\n",
        "    correct += 1\n",
        "  else:\n",
        "    break\n",
        "    false += 1"
      ],
      "metadata": {
        "id": "633_Wnbey684"
      },
      "execution_count": 51,
      "outputs": []
    },
    {
      "cell_type": "code",
      "source": [
        "print(correct / (correct + false)) "
      ],
      "metadata": {
        "colab": {
          "base_uri": "https://localhost:8080/"
        },
        "id": "ig9yxW3szk0P",
        "outputId": "ad653a8b-760a-4a74-9ed6-042531408eec"
      },
      "execution_count": 53,
      "outputs": [
        {
          "output_type": "stream",
          "name": "stdout",
          "text": [
            "1.0\n"
          ]
        }
      ]
    },
    {
      "cell_type": "markdown",
      "source": [
        "It's pretty good!"
      ],
      "metadata": {
        "id": "1cqC6ce607-Z"
      }
    },
    {
      "cell_type": "markdown",
      "source": [
        "# Recap of how GPT-2 style models work\n"
      ],
      "metadata": {
        "id": "02iYjIlw3XBG"
      }
    },
    {
      "cell_type": "markdown",
      "source": [
        "In order to understand the following analysis, I think that it is pretty important to understand how transformers work in general, and I think it is relatively important to understand how GPT-2 style transformers work specifically. I'm not going to go into great detail here, but I will recap some basic points. For a further and more detailed explanation of this, I'd suggest going through Anthropic's \"A Mathematical Framework for Transformer Circuits\", as well as Neel's accompanying walkthrough video (I found the latter very useful, to the extent that friends often tease me for bringing it up in conversations)."
      ],
      "metadata": {
        "id": "m1fKk2QQ5Xu4"
      }
    },
    {
      "cell_type": "markdown",
      "source": [
        "Ole note: do I need to include this?"
      ],
      "metadata": {
        "id": "s7hUqzhO6vev"
      }
    },
    {
      "cell_type": "markdown",
      "source": [
        "#Super Basic Interpretability "
      ],
      "metadata": {
        "id": "HUTvm0VU3i8Z"
      }
    },
    {
      "cell_type": "code",
      "source": [
        "input = np.random.choice(100,2)\n",
        "input"
      ],
      "metadata": {
        "colab": {
          "base_uri": "https://localhost:8080/"
        },
        "id": "2Lpc17RA1e4t",
        "outputId": "56e8de2d-2d9f-42e9-8eef-2b0309d5813c"
      },
      "execution_count": 46,
      "outputs": [
        {
          "output_type": "execute_result",
          "data": {
            "text/plain": [
              "array([31, 76])"
            ]
          },
          "metadata": {},
          "execution_count": 46
        }
      ]
    },
    {
      "cell_type": "markdown",
      "source": [
        "Let's take a look at its attention pattern. This corresponds to the model asking \"to which token in the input should the most attention be paid\"."
      ],
      "metadata": {
        "id": "aU6UdVqE1pln"
      }
    },
    {
      "cell_type": "code",
      "source": [
        "generate_attn_pattern(small_model, input)"
      ],
      "metadata": {
        "colab": {
          "base_uri": "https://localhost:8080/",
          "height": 357
        },
        "id": "S_655FLq2y9K",
        "outputId": "92178e48-adc1-4a3e-802e-034db4e60d5c"
      },
      "execution_count": 48,
      "outputs": [
        {
          "output_type": "execute_result",
          "data": {
            "text/plain": [
              "<circuitsvis.utils.render.RenderedHTML at 0x7f7ee1cfae80>"
            ],
            "text/html": [
              "<div id=\"circuits-vis-579ad7e2-73c1\" style=\"margin: 15px 0;\"/>\n",
              "    <script crossorigin type=\"module\">\n",
              "    import { render, AttentionPatterns } from \"https://unpkg.com/circuitsvis@1.37.0/dist/cdn/esm.js\";\n",
              "    render(\n",
              "      \"circuits-vis-579ad7e2-73c1\",\n",
              "      AttentionPatterns,\n",
              "      {\"tokens\": [\"31\", \"76\"], \"attention\": [[[1.0, 0.0], [1.0, 4.060620728552067e-09]]]}\n",
              "    )\n",
              "    </script>"
            ]
          },
          "metadata": {},
          "execution_count": 48
        }
      ]
    },
    {
      "cell_type": "markdown",
      "source": [
        "Note that"
      ],
      "metadata": {
        "id": "JSoLf8Iw25mw"
      }
    },
    {
      "cell_type": "markdown",
      "source": [
        " Let's have a look at its logits, for this random input.\n",
        "(Maybe include this elsewhere?? Maybe not, also) (As a reminder, logits are the raw output of the transformer, before we apply softmax to the outputs to get a probabilistic looking answer)."
      ],
      "metadata": {
        "id": "ZntkDahb7TNw"
      }
    },
    {
      "cell_type": "code",
      "source": [],
      "metadata": {
        "id": "wwQ8Xayo7Sy_"
      },
      "execution_count": null,
      "outputs": []
    },
    {
      "cell_type": "code",
      "source": [
        "plot_logits(small_model, input)"
      ],
      "metadata": {
        "colab": {
          "base_uri": "https://localhost:8080/",
          "height": 180
        },
        "id": "A-lUaVp11FwI",
        "outputId": "605c7e7a-240e-45ae-d666-7c05327d4b98"
      },
      "execution_count": 47,
      "outputs": [
        {
          "output_type": "display_data",
          "data": {
            "text/plain": [
              "<Figure size 2880x288 with 1 Axes>"
            ],
            "image/png": "[encoded data removed]"
          },
          "metadata": {
            "needs_background": "light"
          }
        }
      ]
    },
    {
      "cell_type": "markdown",
      "source": [
        "The only distinguishable pattern here is that there is a clear peak at the minimum (31), with what looks essentially like noise for all other values."
      ],
      "metadata": {
        "id": "J-94z-J_15lB"
      }
    },
    {
      "cell_type": "markdown",
      "source": [
        "This is essentially where we got to at the end of the Hackathon (most of our time was spent trying to train a transformer in the first place!). The story we could convincingly tell at the end of this was \"transformers pay the most attention to the token corresponding to the smallest input\". \n",
        "\n",
        "Although I still agree this is true, I think we can tell a more comprehensive story than this!"
      ],
      "metadata": {
        "id": "MyQWrzQd3rva"
      }
    },
    {
      "cell_type": "markdown",
      "source": [
        "# How I think it is working"
      ],
      "metadata": {
        "id": "S8Y_1HaathXb"
      }
    },
    {
      "cell_type": "markdown",
      "source": [
        "Here is how I think the transformer is working. I'll try to highlight my key uncertainties, and why my justification for each claim."
      ],
      "metadata": {
        "id": "MC9pN1C9uJtt"
      }
    },
    {
      "cell_type": "markdown",
      "source": [
        "Overall, I think the algorithm being carried out by the transformer is:\n",
        "1. Pay attention to an input number, corresponding to how small that input is. The smaller the number, the more attention we pay to that input.\n",
        "2. Then, once we are paying attention to a number, we are going to simply copy over the vector corresponding to that number, and add it to the residual stream. (uncertain: if the size of the vector we copy over is really big, then it will dwarf the original vector in the residual stream. This essentially means it is just replacing the original vector with the new one!)"
      ],
      "metadata": {
        "id": "wC7ZlWo3uqlx"
      }
    },
    {
      "cell_type": "markdown",
      "source": [
        "## Claim 1: attention scores are negatively proportional to the size of the number."
      ],
      "metadata": {
        "id": "cHoydvCPxDqt"
      }
    },
    {
      "cell_type": "code",
      "source": [],
      "metadata": {
        "id": "9Wktgz03xjGA"
      },
      "execution_count": null,
      "outputs": []
    },
    {
      "cell_type": "code",
      "source": [],
      "metadata": {
        "id": "O1SwHd1auh4d"
      },
      "execution_count": null,
      "outputs": []
    },
    {
      "cell_type": "code",
      "source": [
        "# Hold the second token constant, look at the attention pattern\n",
        "attn_to_i = []\n",
        "for i in range(100):\n",
        "  input = torch.tensor([i, 80])\n",
        "  logits, cache = small_model.run_with_cache(input, remove_batch_dim = True)\n",
        "  attn_pattern = cache[\"pattern\", 0, \"attn\"]\n",
        "  attn_to_i.append(float(attn_pattern[0][-1][0]))\n",
        "\n",
        "plt.plot(range(100), attn_to_i)\n"
      ],
      "metadata": {
        "colab": {
          "base_uri": "https://localhost:8080/",
          "height": 282
        },
        "id": "YB-HMbLS0HTB",
        "outputId": "ceda4b70-0228-4f0c-c6a9-8b6faa8375d6"
      },
      "execution_count": 14,
      "outputs": [
        {
          "output_type": "execute_result",
          "data": {
            "text/plain": [
              "[<matplotlib.lines.Line2D at 0x7f7ee18979a0>]"
            ]
          },
          "metadata": {},
          "execution_count": 14
        },
        {
          "output_type": "display_data",
          "data": {
            "text/plain": [
              "<Figure size 432x288 with 1 Axes>"
            ],
            "image/png": "[encoded data removed]"
          },
          "metadata": {
            "needs_background": "light"
          }
        }
      ]
    },
    {
      "cell_type": "code",
      "source": [
        "# Hold the second token constant, look at the attention pattern\n",
        "attn_to_69 = []\n",
        "attn_to_42 = []\n",
        "for i in range(100):\n",
        "  input69 = torch.tensor([i, 69])\n",
        "  logits, cache = small_model.run_with_cache(input69, remove_batch_dim = True)\n",
        "  attn_pattern69 = cache[\"attn_scores\", 0, \"attn\"]\n",
        "  attn_to_69.append(float(attn_pattern69[0][-1][0]))\n",
        "  input42 = torch.tensor([i, 42])\n",
        "  logits, cache = small_model.run_with_cache(input42, remove_batch_dim = True)\n",
        "  attn_pattern42 = cache[\"attn_scores\", 0, \"attn\"]\n",
        "  attn_to_42.append(float(attn_pattern42[0][-1][0]))\n",
        "\n",
        "plt.plot(range(100), attn_to_69)"
      ],
      "metadata": {
        "colab": {
          "base_uri": "https://localhost:8080/",
          "height": 285
        },
        "id": "myxHTrUR2iBI",
        "outputId": "0962a664-dd85-4347-f5b7-ec022ff3fb79"
      },
      "execution_count": 15,
      "outputs": [
        {
          "output_type": "execute_result",
          "data": {
            "text/plain": [
              "[<matplotlib.lines.Line2D at 0x7f7ee1bbd4c0>]"
            ]
          },
          "metadata": {},
          "execution_count": 15
        },
        {
          "output_type": "display_data",
          "data": {
            "text/plain": [
              "<Figure size 432x288 with 1 Axes>"
            ],
            "image/png": "[encoded data removed]"
          },
          "metadata": {
            "needs_background": "light"
          }
        }
      ]
    },
    {
      "cell_type": "code",
      "source": [
        "plt.plot(range(100), attn_to_42)"
      ],
      "metadata": {
        "colab": {
          "base_uri": "https://localhost:8080/",
          "height": 285
        },
        "id": "zGhRmoVo8gv8",
        "outputId": "ee1f52c2-8835-433b-8dd7-46c89773100b"
      },
      "execution_count": 16,
      "outputs": [
        {
          "output_type": "execute_result",
          "data": {
            "text/plain": [
              "[<matplotlib.lines.Line2D at 0x7f7ee17df730>]"
            ]
          },
          "metadata": {},
          "execution_count": 16
        },
        {
          "output_type": "display_data",
          "data": {
            "text/plain": [
              "<Figure size 432x288 with 1 Axes>"
            ],
            "image/png": "[encoded data removed]"
          },
          "metadata": {
            "needs_background": "light"
          }
        }
      ]
    },
    {
      "cell_type": "code",
      "source": [
        "attn_diff = [a - b for (a,b) in zip(attn_to_69, attn_to_42)]"
      ],
      "metadata": {
        "id": "ReOnvJwl8a7L"
      },
      "execution_count": 17,
      "outputs": []
    },
    {
      "cell_type": "code",
      "source": [
        "plt.plot(range(100), attn_diff)"
      ],
      "metadata": {
        "colab": {
          "base_uri": "https://localhost:8080/",
          "height": 282
        },
        "id": "beOhche89iWi",
        "outputId": "29de3fa8-c084-43c0-8644-a47b0e1739b2"
      },
      "execution_count": 18,
      "outputs": [
        {
          "output_type": "execute_result",
          "data": {
            "text/plain": [
              "[<matplotlib.lines.Line2D at 0x7f7ee0fd41f0>]"
            ]
          },
          "metadata": {},
          "execution_count": 18
        },
        {
          "output_type": "display_data",
          "data": {
            "text/plain": [
              "<Figure size 432x288 with 1 Axes>"
            ],
            "image/png": "[encoded data removed]"
          },
          "metadata": {
            "needs_background": "light"
          }
        }
      ]
    },
    {
      "cell_type": "code",
      "source": [
        "# That's super weird!! Let's do it again!!\n",
        "\n",
        "attn_to_89 = []\n",
        "attn_to_21 = []\n",
        "for i in range(100):\n",
        "  input89 = torch.tensor([i, 89])\n",
        "  logits, cache = small_model.run_with_cache(input89, remove_batch_dim = True)\n",
        "  attn_pattern89 = cache[\"attn_scores\", 0, \"attn\"]\n",
        "  attn_to_89.append(float(attn_pattern89[0][-1][0]))\n",
        "  input21 = torch.tensor([i, 21])\n",
        "  logits, cache = small_model.run_with_cache(input21, remove_batch_dim = True)\n",
        "  attn_pattern21 = cache[\"attn_scores\", 0, \"attn\"]\n",
        "  attn_to_21.append(float(attn_pattern21[0][-1][0]))"
      ],
      "metadata": {
        "id": "a5u4q1zY3Z86"
      },
      "execution_count": 19,
      "outputs": []
    },
    {
      "cell_type": "code",
      "source": [
        "plt.plot(range(100), attn_to_89)"
      ],
      "metadata": {
        "colab": {
          "base_uri": "https://localhost:8080/",
          "height": 286
        },
        "id": "1on9lj4l-G61",
        "outputId": "a26b420b-07f7-46d7-9f61-dd0f78467f3b"
      },
      "execution_count": 20,
      "outputs": [
        {
          "output_type": "execute_result",
          "data": {
            "text/plain": [
              "[<matplotlib.lines.Line2D at 0x7f7ee0f88610>]"
            ]
          },
          "metadata": {},
          "execution_count": 20
        },
        {
          "output_type": "display_data",
          "data": {
            "text/plain": [
              "<Figure size 432x288 with 1 Axes>"
            ],
            "image/png": "[encoded data removed]"
          },
          "metadata": {
            "needs_background": "light"
          }
        }
      ]
    },
    {
      "cell_type": "code",
      "source": [
        "plt.plot(range(100), attn_to_21)"
      ],
      "metadata": {
        "colab": {
          "base_uri": "https://localhost:8080/",
          "height": 284
        },
        "id": "pi3vQPj9-KpA",
        "outputId": "bbc87359-8e1e-44af-bd5e-b4d4cd11d6ca"
      },
      "execution_count": 21,
      "outputs": [
        {
          "output_type": "execute_result",
          "data": {
            "text/plain": [
              "[<matplotlib.lines.Line2D at 0x7f7ee0fa0ee0>]"
            ]
          },
          "metadata": {},
          "execution_count": 21
        },
        {
          "output_type": "display_data",
          "data": {
            "text/plain": [
              "<Figure size 432x288 with 1 Axes>"
            ],
            "image/png": "[encoded data removed]"
          },
          "metadata": {
            "needs_background": "light"
          }
        }
      ]
    },
    {
      "cell_type": "code",
      "source": [
        "plt.plot(range(100), [a - b for (a,b) in zip(attn_to_69, attn_to_)])"
      ],
      "metadata": {
        "colab": {
          "base_uri": "https://localhost:8080/",
          "height": 166
        },
        "id": "0yrFV716-TTl",
        "outputId": "03465486-9254-41df-d9e0-7c12eb2b422e"
      },
      "execution_count": 22,
      "outputs": [
        {
          "output_type": "error",
          "ename": "NameError",
          "evalue": "ignored",
          "traceback": [
            "\u001b[0;31m---------------------------------------------------------------------------\u001b[0m",
            "\u001b[0;31mNameError\u001b[0m                                 Traceback (most recent call last)",
            "\u001b[0;32m<ipython-input-22-c6068f39d7df>\u001b[0m in \u001b[0;36m<module>\u001b[0;34m\u001b[0m\n\u001b[0;32m----> 1\u001b[0;31m \u001b[0mplt\u001b[0m\u001b[0;34m.\u001b[0m\u001b[0mplot\u001b[0m\u001b[0;34m(\u001b[0m\u001b[0mrange\u001b[0m\u001b[0;34m(\u001b[0m\u001b[0;36m100\u001b[0m\u001b[0;34m)\u001b[0m\u001b[0;34m,\u001b[0m \u001b[0;34m[\u001b[0m\u001b[0ma\u001b[0m \u001b[0;34m-\u001b[0m \u001b[0mb\u001b[0m \u001b[0;32mfor\u001b[0m \u001b[0;34m(\u001b[0m\u001b[0ma\u001b[0m\u001b[0;34m,\u001b[0m\u001b[0mb\u001b[0m\u001b[0;34m)\u001b[0m \u001b[0;32min\u001b[0m \u001b[0mzip\u001b[0m\u001b[0;34m(\u001b[0m\u001b[0mattn_to_69\u001b[0m\u001b[0;34m,\u001b[0m \u001b[0mattn_to_\u001b[0m\u001b[0;34m)\u001b[0m\u001b[0;34m]\u001b[0m\u001b[0;34m)\u001b[0m\u001b[0;34m\u001b[0m\u001b[0;34m\u001b[0m\u001b[0m\n\u001b[0m",
            "\u001b[0;31mNameError\u001b[0m: name 'attn_to_' is not defined"
          ]
        }
      ]
    },
    {
      "cell_type": "code",
      "source": [
        "attn_to_31 = []\n",
        "for i in range(100):\n",
        "  input31 = torch.tensor([i, 69])\n",
        "  logits, cache = small_model.run_with_cache(input31, remove_batch_dim = True)\n",
        "  attn_pattern31 = cache[\"attn_scores\", 0, \"attn\"]\n",
        "  attn_to_31.append(float(attn_pattern31[0][-1][0]))"
      ],
      "metadata": {
        "id": "fHIpgUuf_Jtx"
      },
      "execution_count": null,
      "outputs": []
    },
    {
      "cell_type": "code",
      "source": [
        "plt.plot(range(100), [a - b for (a,b) in zip(attn_to_69, attn_to_31)])"
      ],
      "metadata": {
        "id": "skC1IUtK_XC6"
      },
      "execution_count": null,
      "outputs": []
    },
    {
      "cell_type": "code",
      "source": [
        "attn_to_69 == attn_to_31"
      ],
      "metadata": {
        "id": "H5RIZuAS_dmw"
      },
      "execution_count": null,
      "outputs": []
    },
    {
      "cell_type": "code",
      "source": [
        "def make_attn_to_n(n):\n",
        "  attn_to_n = []\n",
        "  for i in range(100):\n",
        "    inputn = torch.tensor([i, n])\n",
        "    logits, cache = small_model.run_with_cache(inputn, remove_batch_dim = True)\n",
        "    attn_pattern = cache[\"attn_scores\", 0, \"attn\"]\n",
        "    attn_to_n.append(float(attn_pattern[0][-1][0]))\n",
        "  return attn_to_n"
      ],
      "metadata": {
        "id": "K8FsqPDjAG22"
      },
      "execution_count": null,
      "outputs": []
    },
    {
      "cell_type": "code",
      "source": [
        "attn_to_80 = make_attn_to_n(80)\n",
        "attn_to_20 = make_attn_to_n(20)"
      ],
      "metadata": {
        "id": "dsybM6j-AcZ8"
      },
      "execution_count": null,
      "outputs": []
    },
    {
      "cell_type": "code",
      "source": [
        "plt.plot(range(100), [a - b for (a,b) in zip(attn_to_80, attn_to_20)])"
      ],
      "metadata": {
        "id": "xH_FS-X9AlSZ"
      },
      "execution_count": null,
      "outputs": []
    },
    {
      "cell_type": "markdown",
      "source": [
        "Weird stuff!"
      ],
      "metadata": {
        "id": "9wR9cpnDBbJ3"
      }
    },
    {
      "cell_type": "markdown",
      "source": [
        "Getting a little look at the logits:"
      ],
      "metadata": {
        "id": "qeDNxxl4GAhY"
      }
    },
    {
      "cell_type": "markdown",
      "source": [
        "## Claim 2: the model is just copying tokens it pays attention to."
      ],
      "metadata": {
        "id": "qgennE-k_kQ7"
      }
    },
    {
      "cell_type": "markdown",
      "source": [
        "Evidence:\n",
        "A lot of my evidence is based on the summary statistics developed in the \"A Mathematical Framework for Transformers\" paper from Anthropic to measure copying. You can see further discussion of them there.\n",
        "\n",
        "These summary statistics involve ... (complete)\n",
        "\n",
        "However, let's assume that OV  are in fact good measures of \"copying behaviour\"."
      ],
      "metadata": {
        "id": "X8Y9cYv__1ex"
      }
    },
    {
      "cell_type": "markdown",
      "source": [
        "Here are the copying scores both for only the OV circuit, and for the OV circuit with both the embed and unembed layers taken into account."
      ],
      "metadata": {
        "id": "hRQSEye6Clnu"
      }
    },
    {
      "cell_type": "code",
      "source": [
        "print(OV_copying_score(small_model))\n",
        "print(OV_full_copying_score(small_model))"
      ],
      "metadata": {
        "colab": {
          "base_uri": "https://localhost:8080/"
        },
        "id": "f-Xiy7f2zdtj",
        "outputId": "56b90fcc-e26a-49a6-f134-2a7685083959"
      },
      "execution_count": 56,
      "outputs": [
        {
          "output_type": "stream",
          "name": "stdout",
          "text": [
            "tensor([[0.9826]], device='cuda:0', grad_fn=<DivBackward0>)\n",
            "tensor([[0.9988]], device='cuda:0', grad_fn=<DivBackward0>)\n"
          ]
        }
      ]
    },
    {
      "cell_type": "markdown",
      "source": [
        "Since 1 is the maximum value these can reach (varying from -1 to 1), by this measure the OV circuit here can be well described as copying!"
      ],
      "metadata": {
        "id": "jUtryTZYCzC9"
      }
    },
    {
      "cell_type": "markdown",
      "source": [
        "Could also include a plot of copying score over time?"
      ],
      "metadata": {
        "id": "jcSUDz7IB1FM"
      }
    },
    {
      "cell_type": "code",
      "source": [
        "#Aside: trying to find eigenvalues to work out how much stretching is occurring!\n",
        "OV_circuit_all_heads = small_model.OV\n",
        "OV_circuit_all_heads_eigenvalues = OV_circuit_all_heads.eigenvalues"
      ],
      "metadata": {
        "id": "dcm_20c74Zc9"
      },
      "execution_count": 49,
      "outputs": []
    },
    {
      "cell_type": "code",
      "source": [
        "OV_circuit_all_heads_eigenvalues"
      ],
      "metadata": {
        "colab": {
          "base_uri": "https://localhost:8080/"
        },
        "id": "hGCMAvEy4dLf",
        "outputId": "9b69c366-a249-4a0f-9f94-777309167ec6"
      },
      "execution_count": 50,
      "outputs": [
        {
          "output_type": "execute_result",
          "data": {
            "text/plain": [
              "tensor([[[ 7.5948e+00+0.0000e+00j,  1.1278e+01+3.7072e+00j,\n",
              "           1.1278e+01-3.7072e+00j,  1.2924e+01+0.0000e+00j,\n",
              "           1.2808e+01+1.7348e+00j,  1.2808e+01-1.7348e+00j,\n",
              "           1.1785e+01+2.3683e+00j,  1.1785e+01-2.3683e+00j,\n",
              "           1.2188e+01+1.6716e+00j,  1.2188e+01-1.6716e+00j,\n",
              "           1.0789e+01+0.0000e+00j,  5.3912e-03+1.0783e-03j,\n",
              "           5.3912e-03-1.0783e-03j,  5.6252e-03+0.0000e+00j,\n",
              "           5.2918e-03+0.0000e+00j,  4.9500e-03+1.6487e-03j,\n",
              "           4.9500e-03-1.6487e-03j,  4.4032e-03+1.8752e-03j,\n",
              "           4.4032e-03-1.8752e-03j,  1.4944e-03+3.8838e-03j,\n",
              "           1.4944e-03-3.8838e-03j,  3.6131e-03+2.4940e-03j,\n",
              "           3.6131e-03-2.4940e-03j, -4.2624e-04+3.3613e-03j,\n",
              "          -4.2624e-04-3.3613e-03j,  1.6848e-03+3.1929e-03j,\n",
              "           1.6848e-03-3.1929e-03j,  2.7671e-03+2.4358e-03j,\n",
              "           2.7671e-03-2.4358e-03j,  3.7487e-03+1.5481e-04j,\n",
              "           3.7487e-03-1.5481e-04j, -1.7868e-03+2.3504e-03j,\n",
              "          -1.7868e-03-2.3504e-03j,  3.1527e-03+1.0731e-03j,\n",
              "           3.1527e-03-1.0731e-03j,  1.8522e-03+2.3259e-03j,\n",
              "           1.8522e-03-2.3259e-03j,  8.0627e-04+2.5340e-03j,\n",
              "           8.0627e-04-2.5340e-03j,  2.1574e-05+2.5663e-03j,\n",
              "           2.1574e-05-2.5663e-03j,  3.0229e-03+3.4081e-04j,\n",
              "           3.0229e-03-3.4081e-04j, -1.9254e-03+1.2940e-03j,\n",
              "          -1.9254e-03-1.2940e-03j,  2.1099e-03+1.6922e-03j,\n",
              "           2.1099e-03-1.6922e-03j,  2.5026e-03+9.0671e-04j,\n",
              "           2.5026e-03-9.0671e-04j, -1.3291e-03+1.8423e-03j,\n",
              "          -1.3291e-03-1.8423e-03j, -2.0745e-03+6.0794e-04j,\n",
              "          -2.0745e-03-6.0794e-04j, -2.3549e-04+2.1905e-03j,\n",
              "          -2.3549e-04-2.1905e-03j, -5.7135e-04+2.0414e-03j,\n",
              "          -5.7135e-04-2.0414e-03j, -1.9879e-03+0.0000e+00j,\n",
              "           2.2134e-03+6.1976e-04j,  2.2134e-03-6.1976e-04j,\n",
              "           4.9199e-04+2.0730e-03j,  4.9199e-04-2.0730e-03j,\n",
              "          -1.0885e-03+1.3669e-03j, -1.0885e-03-1.3669e-03j,\n",
              "           1.4830e-03+8.4069e-04j,  1.4830e-03-8.4069e-04j,\n",
              "           1.6977e-03+0.0000e+00j,  6.5198e-04+1.4155e-03j,\n",
              "           6.5198e-04-1.4155e-03j, -9.1793e-04+1.0673e-03j,\n",
              "          -9.1793e-04-1.0673e-03j, -1.3106e-03+3.9828e-04j,\n",
              "          -1.3106e-03-3.9828e-04j,  1.4917e-05+1.4066e-03j,\n",
              "           1.4917e-05-1.4066e-03j,  1.4942e-03+0.0000e+00j,\n",
              "           9.6873e-04+7.9233e-04j,  9.6873e-04-7.9233e-04j,\n",
              "           7.7195e-04+9.2274e-04j,  7.7195e-04-9.2274e-04j,\n",
              "          -4.6167e-04+9.3829e-04j, -4.6167e-04-9.3829e-04j,\n",
              "           4.4643e-05+1.0594e-03j,  4.4643e-05-1.0594e-03j,\n",
              "          -7.7451e-04+0.0000e+00j, -7.4299e-04+3.5064e-04j,\n",
              "          -7.4299e-04-3.5064e-04j, -7.7751e-04+2.2575e-04j,\n",
              "          -7.7751e-04-2.2575e-04j,  6.8481e-04+5.6224e-04j,\n",
              "           6.8481e-04-5.6224e-04j, -1.7219e-05+7.4658e-04j,\n",
              "          -1.7219e-05-7.4658e-04j,  8.4406e-04+2.0723e-04j,\n",
              "           8.4406e-04-2.0723e-04j,  3.4598e-04+5.9046e-04j,\n",
              "           3.4598e-04-5.9046e-04j, -3.5439e-04+4.2127e-04j,\n",
              "          -3.5439e-04-4.2127e-04j,  5.8170e-04+1.4377e-04j,\n",
              "           5.8170e-04-1.4377e-04j, -5.2924e-06+4.5342e-04j,\n",
              "          -5.2924e-06-4.5342e-04j, -4.0535e-04+7.5745e-05j,\n",
              "          -4.0535e-04-7.5745e-05j,  4.4742e-04+7.2052e-05j,\n",
              "           4.4742e-04-7.2052e-05j, -1.7138e-04+2.5697e-04j,\n",
              "          -1.7138e-04-2.5697e-04j, -3.1162e-04+0.0000e+00j,\n",
              "           2.2172e-04+2.9792e-04j,  2.2172e-04-2.9792e-04j,\n",
              "           3.6762e-04+1.6925e-04j,  3.6762e-04-1.6925e-04j,\n",
              "          -1.1313e-06+2.3205e-04j, -1.1313e-06-2.3205e-04j,\n",
              "           2.4013e-04+0.0000e+00j, -1.0552e-04+4.6366e-05j,\n",
              "          -1.0552e-04-4.6366e-05j,  1.1407e-04+7.0262e-05j,\n",
              "           1.1407e-04-7.0262e-05j,  1.3570e-04+0.0000e+00j,\n",
              "          -8.3744e-05+0.0000e+00j, -3.3146e-06+6.0048e-05j,\n",
              "          -3.3146e-06-6.0048e-05j,  1.6671e-05+0.0000e+00j,\n",
              "          -1.6455e-05+0.0000e+00j, -1.6999e-06+0.0000e+00j]]], device='cuda:0',\n",
              "       grad_fn=<LinalgEigBackward0>)"
            ]
          },
          "metadata": {},
          "execution_count": 50
        }
      ]
    },
    {
      "cell_type": "markdown",
      "source": [
        "## Claim 3: The attention layer is \"overpoowering\" the residual stream."
      ],
      "metadata": {
        "id": "GUndYTEYAZ-9"
      }
    },
    {
      "cell_type": "markdown",
      "source": [
        "A further hypothesis I have about this transformer, is that these networks are not simply copying, but are copying an enlarged version of the token. It makes sense to do this because the output of the OV circuit is being added to the residual stream which contains the embedding of the second token. To minimise the extent to which the embedding of the second token influences the output logits, it seems like a useful strategy to copy over a vector which is as large as possible!\n",
        "\n",
        "Now, if we were using some form of normalisation such as layer norm, this \"overpowering\" would not be possible, since it would limit the size of the vector we add back to the residual stream. However, this model doesn't use Layer Norm!\n",
        "(I think this is how layer norm works)"
      ],
      "metadata": {
        "id": "Oa_jukJBDK6M"
      }
    },
    {
      "cell_type": "markdown",
      "source": [
        "To try to test this, I'm going to go for the simplest measurement I can think of: just compare the l2 norm of the residual stream before we go through the attention layer, with the l2 norm of the activation of the attention layer (which will be added back to the residual stream)."
      ],
      "metadata": {
        "id": "J1ick2toFmzk"
      }
    },
    {
      "cell_type": "code",
      "source": [
        "input"
      ],
      "metadata": {
        "colab": {
          "base_uri": "https://localhost:8080/"
        },
        "id": "E2htm9gEGaFp",
        "outputId": "cd6c1cb0-f136-4335-90f6-99772991bd75"
      },
      "execution_count": 57,
      "outputs": [
        {
          "output_type": "execute_result",
          "data": {
            "text/plain": [
              "tensor([50, 20])"
            ]
          },
          "metadata": {},
          "execution_count": 57
        }
      ]
    },
    {
      "cell_type": "code",
      "source": [
        "logits, cache = small_model.run_with_cache(input, remove_batch_dim=True)"
      ],
      "metadata": {
        "id": "DTi5iT2VGLV4"
      },
      "execution_count": 58,
      "outputs": []
    },
    {
      "cell_type": "markdown",
      "source": [
        "Ole note: check whether I should be looking at the output of the embed or the positional embed for this!"
      ],
      "metadata": {
        "id": "9_VFgLGLILJZ"
      }
    },
    {
      "cell_type": "code",
      "source": [
        "torch.norm(cache[\"resid_pre\", 0][-1])"
      ],
      "metadata": {
        "colab": {
          "base_uri": "https://localhost:8080/"
        },
        "id": "IRVXSVXEIcOo",
        "outputId": "66a9e818-a1ef-4e54-a6a8-67d2157515b8"
      },
      "execution_count": 77,
      "outputs": [
        {
          "output_type": "execute_result",
          "data": {
            "text/plain": [
              "tensor(3.5786, device='cuda:0')"
            ]
          },
          "metadata": {},
          "execution_count": 77
        }
      ]
    },
    {
      "cell_type": "code",
      "source": [
        "torch.norm(cache[\"attn_out\", 0][-1])"
      ],
      "metadata": {
        "colab": {
          "base_uri": "https://localhost:8080/"
        },
        "id": "aLZoUDtZKtfo",
        "outputId": "b12f8cda-b699-46f9-9195-92dc1405db57"
      },
      "execution_count": 78,
      "outputs": [
        {
          "output_type": "execute_result",
          "data": {
            "text/plain": [
              "tensor(24.6327, device='cuda:0')"
            ]
          },
          "metadata": {},
          "execution_count": 78
        }
      ]
    },
    {
      "cell_type": "code",
      "source": [
        "torch.norm(cache[\"resid_post\", 0][-1])"
      ],
      "metadata": {
        "colab": {
          "base_uri": "https://localhost:8080/"
        },
        "id": "tfFGSD71KvYO",
        "outputId": "8d2f0b96-907c-45a3-9edc-56805388c2d7"
      },
      "execution_count": 79,
      "outputs": [
        {
          "output_type": "execute_result",
          "data": {
            "text/plain": [
              "tensor(26.0758, device='cuda:0')"
            ]
          },
          "metadata": {},
          "execution_count": 79
        }
      ]
    },
    {
      "cell_type": "markdown",
      "source": [
        "Here is a little sanity check to ensure that we are actually comparing the correct activations!"
      ],
      "metadata": {
        "id": "x-7M2I9zK-Bv"
      }
    },
    {
      "cell_type": "code",
      "source": [
        "cache[\"resid_pre\", 0][-1] + cache[\"attn_out\", 0][-1] == cache[\"resid_post\", 0][-1]"
      ],
      "metadata": {
        "colab": {
          "base_uri": "https://localhost:8080/"
        },
        "id": "yZMGgVUoKy8F",
        "outputId": "2cea6e1c-b592-42af-83e9-1e367ce1e8c4"
      },
      "execution_count": 80,
      "outputs": [
        {
          "output_type": "execute_result",
          "data": {
            "text/plain": [
              "tensor([True, True, True, True, True, True, True, True, True, True, True, True,\n",
              "        True, True, True, True, True, True, True, True, True, True, True, True,\n",
              "        True, True, True, True, True, True, True, True, True, True, True, True,\n",
              "        True, True, True, True, True, True, True, True, True, True, True, True,\n",
              "        True, True, True, True, True, True, True, True, True, True, True, True,\n",
              "        True, True, True, True, True, True, True, True, True, True, True, True,\n",
              "        True, True, True, True, True, True, True, True, True, True, True, True,\n",
              "        True, True, True, True, True, True, True, True, True, True, True, True,\n",
              "        True, True, True, True, True, True, True, True, True, True, True, True,\n",
              "        True, True, True, True, True, True, True, True, True, True, True, True,\n",
              "        True, True, True, True, True, True, True, True], device='cuda:0')"
            ]
          },
          "metadata": {},
          "execution_count": 80
        }
      ]
    },
    {
      "cell_type": "markdown",
      "source": [
        "Now, I'll calculate the average ratio of the output of the attention layer divided by the residual stream before the attention layer, across 100 random inputs."
      ],
      "metadata": {
        "id": "4VVM4sp8QUJz"
      }
    },
    {
      "cell_type": "code",
      "source": [
        "resid_pre = []\n",
        "attn_out = []\n",
        "for i in range(100):\n",
        "  input = torch.tensor(np.random.choice(100,2))\n",
        "  logits, cache = small_model.run_with_cache(input, remove_batch_dim=True)\n",
        "  resid_pre.append(torch.norm(cache[\"resid_pre\", 0][-1]))\n",
        "  attn_out.append(torch.norm(cache[\"attn_out\", 0][-1]))\n",
        "\n",
        "ratios = [post / pre for (post, pre) in zip(attn_out, resid_pre)]\n",
        "sum(ratios)/len(ratios)"
      ],
      "metadata": {
        "colab": {
          "base_uri": "https://localhost:8080/"
        },
        "id": "EdPKfi2qLX7Q",
        "outputId": "dcc0c915-c5e7-4711-cb28-44542d120946"
      },
      "execution_count": 90,
      "outputs": [
        {
          "output_type": "execute_result",
          "data": {
            "text/plain": [
              "tensor(7.2280, device='cuda:0')"
            ]
          },
          "metadata": {},
          "execution_count": 90
        }
      ]
    },
    {
      "cell_type": "markdown",
      "source": [
        "The output of the attention layer is on average 7x greater than the output of residual stream! Despite the crudeness of this statistic, it feels like relevant information nonetheless. \n",
        "\n",
        "My guess as to why the output of the attention layer isn't even bigger than this is because of the regularisation applied during training. This also makes the above results more significant: the model is having to pay a high penalty to have the high weights necessary to produce large activations in the output, so the fact it is doing so anyway suggests the size of the activations serves an important purpose."
      ],
      "metadata": {
        "id": "qt87NWEpHuo-"
      }
    },
    {
      "cell_type": "markdown",
      "source": [
        "Why isn't the model removing the residual stream, and replacing it entirely with the output of the attention layer? (Expand) 1-layer transformers cannot do this! (Think about if this is true for transformers with more layers, MLP, etc.)\n",
        "\n",
        "\n",
        "In fact, I suspect that this might be generalisable to other transformers where a single attention layer is essentially able to compute the correct answer: a strategy of \"shout so loud the opinions of others cannot be heard\" might well be the learned behaviour here! :)) (expand on this in the takeaways section)"
      ],
      "metadata": {
        "id": "YFQu4gHQPBrz"
      }
    },
    {
      "cell_type": "markdown",
      "source": [
        "#Caveats and Issues with my Analysis"
      ],
      "metadata": {
        "id": "z7a7uhnCAqV2"
      }
    },
    {
      "cell_type": "markdown",
      "source": [
        "1. I wasn't able to train a model without positional encoding, because I wasn't sure how to do that using the Transformer Lens library! I suspect this might have  removed some of the noise from the output logits, but I'm unsure about this.\n",
        "2.   "
      ],
      "metadata": {
        "id": "GVd5Hng0AyX6"
      }
    }
  ]
}